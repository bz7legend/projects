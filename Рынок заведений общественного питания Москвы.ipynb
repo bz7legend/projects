{
 "cells": [
  {
   "cell_type": "markdown",
   "metadata": {},
   "source": [
    "# Рынок заведений общественного питания Москвы"
   ]
  },
  {
   "cell_type": "markdown",
   "metadata": {},
   "source": [
    "Вы решили открыть небольшое кафе в Москве. Оно оригинальное — гостей должны обслуживать роботы. Проект многообещающий, но дорогой. Вместе с партнёрами вы решились обратиться к инвесторам. Их интересует текущее положение дел на рынке — сможете ли вы снискать популярность на долгое время, когда все зеваки насмотрятся на роботов-официантов?\n",
    "Вы — гуру аналитики, и партнёры просят вас подготовить исследование рынка. У вас есть открытые данные о заведениях общественного питания в Москве."
   ]
  },
  {
   "cell_type": "markdown",
   "metadata": {},
   "source": [
    "## Шаг №1. Загрузите данные и подготовьте их к анализу"
   ]
  },
  {
   "cell_type": "code",
   "execution_count": 1,
   "metadata": {},
   "outputs": [],
   "source": [
    "import pandas as pd\n",
    "import matplotlib.pyplot as plt\n",
    "import numpy as np\n",
    "from scipy import stats as st\n",
    "import seaborn as sns\n",
    "import datetime as dt\n",
    "import scipy.stats as stats\n",
    "from pandas.plotting import register_matplotlib_converters\n",
    "register_matplotlib_converters()"
   ]
  },
  {
   "cell_type": "code",
   "execution_count": 2,
   "metadata": {},
   "outputs": [],
   "source": [
    "data = pd.read_csv('/datasets/rest_data.csv')"
   ]
  },
  {
   "cell_type": "code",
   "execution_count": 3,
   "metadata": {},
   "outputs": [
    {
     "name": "stdout",
     "output_type": "stream",
     "text": [
      "<class 'pandas.core.frame.DataFrame'>\n",
      "RangeIndex: 15366 entries, 0 to 15365\n",
      "Data columns (total 6 columns):\n",
      "id             15366 non-null int64\n",
      "object_name    15366 non-null object\n",
      "chain          15366 non-null object\n",
      "object_type    15366 non-null object\n",
      "address        15366 non-null object\n",
      "number         15366 non-null int64\n",
      "dtypes: int64(2), object(4)\n",
      "memory usage: 720.4+ KB\n"
     ]
    }
   ],
   "source": [
    "data.info()"
   ]
  },
  {
   "cell_type": "markdown",
   "metadata": {},
   "source": [
    "С типом данных все в порядке."
   ]
  },
  {
   "cell_type": "code",
   "execution_count": 4,
   "metadata": {},
   "outputs": [
    {
     "data": {
      "text/html": [
       "<div>\n",
       "<style scoped>\n",
       "    .dataframe tbody tr th:only-of-type {\n",
       "        vertical-align: middle;\n",
       "    }\n",
       "\n",
       "    .dataframe tbody tr th {\n",
       "        vertical-align: top;\n",
       "    }\n",
       "\n",
       "    .dataframe thead th {\n",
       "        text-align: right;\n",
       "    }\n",
       "</style>\n",
       "<table border=\"1\" class=\"dataframe\">\n",
       "  <thead>\n",
       "    <tr style=\"text-align: right;\">\n",
       "      <th></th>\n",
       "      <th>id</th>\n",
       "      <th>object_name</th>\n",
       "      <th>chain</th>\n",
       "      <th>object_type</th>\n",
       "      <th>address</th>\n",
       "      <th>number</th>\n",
       "    </tr>\n",
       "  </thead>\n",
       "  <tbody>\n",
       "    <tr>\n",
       "      <td>0</td>\n",
       "      <td>151635</td>\n",
       "      <td>СМЕТАНА</td>\n",
       "      <td>нет</td>\n",
       "      <td>кафе</td>\n",
       "      <td>город Москва, улица Егора Абакумова, дом 9</td>\n",
       "      <td>48</td>\n",
       "    </tr>\n",
       "    <tr>\n",
       "      <td>1</td>\n",
       "      <td>77874</td>\n",
       "      <td>Родник</td>\n",
       "      <td>нет</td>\n",
       "      <td>кафе</td>\n",
       "      <td>город Москва, улица Талалихина, дом 2/1, корпус 1</td>\n",
       "      <td>35</td>\n",
       "    </tr>\n",
       "    <tr>\n",
       "      <td>2</td>\n",
       "      <td>24309</td>\n",
       "      <td>Кафе «Академия»</td>\n",
       "      <td>нет</td>\n",
       "      <td>кафе</td>\n",
       "      <td>город Москва, Абельмановская улица, дом 6</td>\n",
       "      <td>95</td>\n",
       "    </tr>\n",
       "    <tr>\n",
       "      <td>3</td>\n",
       "      <td>21894</td>\n",
       "      <td>ПИЦЦЕТОРИЯ</td>\n",
       "      <td>да</td>\n",
       "      <td>кафе</td>\n",
       "      <td>город Москва, Абрамцевская улица, дом 1</td>\n",
       "      <td>40</td>\n",
       "    </tr>\n",
       "    <tr>\n",
       "      <td>4</td>\n",
       "      <td>119365</td>\n",
       "      <td>Кафе «Вишневая метель»</td>\n",
       "      <td>нет</td>\n",
       "      <td>кафе</td>\n",
       "      <td>город Москва, Абрамцевская улица, дом 9, корпус 1</td>\n",
       "      <td>50</td>\n",
       "    </tr>\n",
       "    <tr>\n",
       "      <td>5</td>\n",
       "      <td>27429</td>\n",
       "      <td>СТОЛ. ПРИ ГОУ СОШ № 1051</td>\n",
       "      <td>нет</td>\n",
       "      <td>столовая</td>\n",
       "      <td>город Москва, Абрамцевская улица, дом 15, корп...</td>\n",
       "      <td>240</td>\n",
       "    </tr>\n",
       "    <tr>\n",
       "      <td>6</td>\n",
       "      <td>148815</td>\n",
       "      <td>Брусника</td>\n",
       "      <td>да</td>\n",
       "      <td>кафе</td>\n",
       "      <td>город Москва, переулок Сивцев Вражек, дом 6/2</td>\n",
       "      <td>10</td>\n",
       "    </tr>\n",
       "    <tr>\n",
       "      <td>7</td>\n",
       "      <td>20957</td>\n",
       "      <td>Буфет МТУСИ</td>\n",
       "      <td>нет</td>\n",
       "      <td>столовая</td>\n",
       "      <td>город Москва, Авиамоторная улица, дом 8, строе...</td>\n",
       "      <td>90</td>\n",
       "    </tr>\n",
       "    <tr>\n",
       "      <td>8</td>\n",
       "      <td>20958</td>\n",
       "      <td>КПФ СЕМЬЯ-1</td>\n",
       "      <td>нет</td>\n",
       "      <td>столовая</td>\n",
       "      <td>город Москва, Авиамоторная улица, дом 8, строе...</td>\n",
       "      <td>150</td>\n",
       "    </tr>\n",
       "    <tr>\n",
       "      <td>9</td>\n",
       "      <td>28858</td>\n",
       "      <td>Столовая МТУСИ</td>\n",
       "      <td>нет</td>\n",
       "      <td>столовая</td>\n",
       "      <td>город Москва, Авиамоторная улица, дом 8, строе...</td>\n",
       "      <td>120</td>\n",
       "    </tr>\n",
       "  </tbody>\n",
       "</table>\n",
       "</div>"
      ],
      "text/plain": [
       "       id               object_name chain object_type  \\\n",
       "0  151635                   СМЕТАНА   нет        кафе   \n",
       "1   77874                    Родник   нет        кафе   \n",
       "2   24309           Кафе «Академия»   нет        кафе   \n",
       "3   21894                ПИЦЦЕТОРИЯ    да        кафе   \n",
       "4  119365    Кафе «Вишневая метель»   нет        кафе   \n",
       "5   27429  СТОЛ. ПРИ ГОУ СОШ № 1051   нет    столовая   \n",
       "6  148815                  Брусника    да        кафе   \n",
       "7   20957               Буфет МТУСИ   нет    столовая   \n",
       "8   20958               КПФ СЕМЬЯ-1   нет    столовая   \n",
       "9   28858            Столовая МТУСИ   нет    столовая   \n",
       "\n",
       "                                             address  number  \n",
       "0         город Москва, улица Егора Абакумова, дом 9      48  \n",
       "1  город Москва, улица Талалихина, дом 2/1, корпус 1      35  \n",
       "2          город Москва, Абельмановская улица, дом 6      95  \n",
       "3            город Москва, Абрамцевская улица, дом 1      40  \n",
       "4  город Москва, Абрамцевская улица, дом 9, корпус 1      50  \n",
       "5  город Москва, Абрамцевская улица, дом 15, корп...     240  \n",
       "6      город Москва, переулок Сивцев Вражек, дом 6/2      10  \n",
       "7  город Москва, Авиамоторная улица, дом 8, строе...      90  \n",
       "8  город Москва, Авиамоторная улица, дом 8, строе...     150  \n",
       "9  город Москва, Авиамоторная улица, дом 8, строе...     120  "
      ]
     },
     "execution_count": 4,
     "metadata": {},
     "output_type": "execute_result"
    }
   ],
   "source": [
    "data.head(10)"
   ]
  },
  {
   "cell_type": "code",
   "execution_count": 5,
   "metadata": {},
   "outputs": [
    {
     "data": {
      "text/plain": [
       "0"
      ]
     },
     "execution_count": 5,
     "metadata": {},
     "output_type": "execute_result"
    }
   ],
   "source": [
    "data.duplicated().sum()"
   ]
  },
  {
   "cell_type": "code",
   "execution_count": 6,
   "metadata": {},
   "outputs": [
    {
     "data": {
      "text/html": [
       "<div>\n",
       "<style scoped>\n",
       "    .dataframe tbody tr th:only-of-type {\n",
       "        vertical-align: middle;\n",
       "    }\n",
       "\n",
       "    .dataframe tbody tr th {\n",
       "        vertical-align: top;\n",
       "    }\n",
       "\n",
       "    .dataframe thead th {\n",
       "        text-align: right;\n",
       "    }\n",
       "</style>\n",
       "<table border=\"1\" class=\"dataframe\">\n",
       "  <thead>\n",
       "    <tr style=\"text-align: right;\">\n",
       "      <th></th>\n",
       "      <th>id</th>\n",
       "      <th>object_name</th>\n",
       "      <th>chain</th>\n",
       "      <th>object_type</th>\n",
       "      <th>address</th>\n",
       "      <th>number</th>\n",
       "    </tr>\n",
       "  </thead>\n",
       "  <tbody>\n",
       "    <tr>\n",
       "      <td>115</td>\n",
       "      <td>28614</td>\n",
       "      <td>КОМБИНАТ ПИТАНИЯ МГТУ ИМ.Н.Э.БАУМАНА</td>\n",
       "      <td>нет</td>\n",
       "      <td>буфет</td>\n",
       "      <td>город Москва, Бригадирский переулок, дом 3-5</td>\n",
       "      <td>12</td>\n",
       "    </tr>\n",
       "    <tr>\n",
       "      <td>580</td>\n",
       "      <td>149205</td>\n",
       "      <td>Общественное питание</td>\n",
       "      <td>нет</td>\n",
       "      <td>кафе</td>\n",
       "      <td>город Москва, Павелецкая площадь, дом 1</td>\n",
       "      <td>35</td>\n",
       "    </tr>\n",
       "    <tr>\n",
       "      <td>581</td>\n",
       "      <td>149131</td>\n",
       "      <td>Общественное питание</td>\n",
       "      <td>нет</td>\n",
       "      <td>кафе</td>\n",
       "      <td>город Москва, Павелецкая площадь, дом 1</td>\n",
       "      <td>39</td>\n",
       "    </tr>\n",
       "    <tr>\n",
       "      <td>1409</td>\n",
       "      <td>151267</td>\n",
       "      <td>Альфорно</td>\n",
       "      <td>нет</td>\n",
       "      <td>кафе</td>\n",
       "      <td>город Москва, город Зеленоград, корпус 438</td>\n",
       "      <td>45</td>\n",
       "    </tr>\n",
       "    <tr>\n",
       "      <td>2375</td>\n",
       "      <td>28604</td>\n",
       "      <td>КОМБИНАТ ПИТАНИЯ МГТУ ИМ.Н.Э.БАУМАНА</td>\n",
       "      <td>нет</td>\n",
       "      <td>столовая</td>\n",
       "      <td>город Москва, 2-я Бауманская улица, дом 5, стр...</td>\n",
       "      <td>150</td>\n",
       "    </tr>\n",
       "    <tr>\n",
       "      <td>...</td>\n",
       "      <td>...</td>\n",
       "      <td>...</td>\n",
       "      <td>...</td>\n",
       "      <td>...</td>\n",
       "      <td>...</td>\n",
       "      <td>...</td>\n",
       "    </tr>\n",
       "    <tr>\n",
       "      <td>15173</td>\n",
       "      <td>218542</td>\n",
       "      <td>Кофе с собой</td>\n",
       "      <td>да</td>\n",
       "      <td>предприятие быстрого обслуживания</td>\n",
       "      <td>город Москва, Алтуфьевское шоссе, дом 70, корп...</td>\n",
       "      <td>0</td>\n",
       "    </tr>\n",
       "    <tr>\n",
       "      <td>15216</td>\n",
       "      <td>214468</td>\n",
       "      <td>Макдоналдс</td>\n",
       "      <td>да</td>\n",
       "      <td>предприятие быстрого обслуживания</td>\n",
       "      <td>город Москва, Варшавское шоссе, дом 87Б</td>\n",
       "      <td>0</td>\n",
       "    </tr>\n",
       "    <tr>\n",
       "      <td>15217</td>\n",
       "      <td>214146</td>\n",
       "      <td>Макдоналдс</td>\n",
       "      <td>да</td>\n",
       "      <td>предприятие быстрого обслуживания</td>\n",
       "      <td>город Москва, Кировоградская улица, дом 13А</td>\n",
       "      <td>0</td>\n",
       "    </tr>\n",
       "    <tr>\n",
       "      <td>15363</td>\n",
       "      <td>209186</td>\n",
       "      <td>Шоколадница</td>\n",
       "      <td>да</td>\n",
       "      <td>кафе</td>\n",
       "      <td>город Москва, улица Земляной Вал, дом 33</td>\n",
       "      <td>20</td>\n",
       "    </tr>\n",
       "    <tr>\n",
       "      <td>15365</td>\n",
       "      <td>222535</td>\n",
       "      <td>Шоколадница</td>\n",
       "      <td>да</td>\n",
       "      <td>кафе</td>\n",
       "      <td>город Москва, Ходынский бульвар, дом 4</td>\n",
       "      <td>10</td>\n",
       "    </tr>\n",
       "  </tbody>\n",
       "</table>\n",
       "<p>170 rows × 6 columns</p>\n",
       "</div>"
      ],
      "text/plain": [
       "           id                           object_name chain  \\\n",
       "115     28614  КОМБИНАТ ПИТАНИЯ МГТУ ИМ.Н.Э.БАУМАНА   нет   \n",
       "580    149205                  Общественное питание   нет   \n",
       "581    149131                  Общественное питание   нет   \n",
       "1409   151267                              Альфорно   нет   \n",
       "2375    28604  КОМБИНАТ ПИТАНИЯ МГТУ ИМ.Н.Э.БАУМАНА   нет   \n",
       "...       ...                                   ...   ...   \n",
       "15173  218542                          Кофе с собой    да   \n",
       "15216  214468                            Макдоналдс    да   \n",
       "15217  214146                            Макдоналдс    да   \n",
       "15363  209186                           Шоколадница    да   \n",
       "15365  222535                           Шоколадница    да   \n",
       "\n",
       "                             object_type  \\\n",
       "115                                буфет   \n",
       "580                                 кафе   \n",
       "581                                 кафе   \n",
       "1409                                кафе   \n",
       "2375                            столовая   \n",
       "...                                  ...   \n",
       "15173  предприятие быстрого обслуживания   \n",
       "15216  предприятие быстрого обслуживания   \n",
       "15217  предприятие быстрого обслуживания   \n",
       "15363                               кафе   \n",
       "15365                               кафе   \n",
       "\n",
       "                                                 address  number  \n",
       "115         город Москва, Бригадирский переулок, дом 3-5      12  \n",
       "580              город Москва, Павелецкая площадь, дом 1      35  \n",
       "581              город Москва, Павелецкая площадь, дом 1      39  \n",
       "1409          город Москва, город Зеленоград, корпус 438      45  \n",
       "2375   город Москва, 2-я Бауманская улица, дом 5, стр...     150  \n",
       "...                                                  ...     ...  \n",
       "15173  город Москва, Алтуфьевское шоссе, дом 70, корп...       0  \n",
       "15216            город Москва, Варшавское шоссе, дом 87Б       0  \n",
       "15217        город Москва, Кировоградская улица, дом 13А       0  \n",
       "15363           город Москва, улица Земляной Вал, дом 33      20  \n",
       "15365             город Москва, Ходынский бульвар, дом 4      10  \n",
       "\n",
       "[170 rows x 6 columns]"
      ]
     },
     "execution_count": 6,
     "metadata": {},
     "output_type": "execute_result"
    }
   ],
   "source": [
    "data[data.duplicated(['object_name', 'chain', 'object_type', 'address'])]"
   ]
  },
  {
   "cell_type": "code",
   "execution_count": 7,
   "metadata": {},
   "outputs": [],
   "source": [
    "data = data.drop_duplicates(['object_name', 'chain', 'object_type', 'address'])"
   ]
  },
  {
   "cell_type": "code",
   "execution_count": 8,
   "metadata": {},
   "outputs": [
    {
     "data": {
      "text/html": [
       "<div>\n",
       "<style scoped>\n",
       "    .dataframe tbody tr th:only-of-type {\n",
       "        vertical-align: middle;\n",
       "    }\n",
       "\n",
       "    .dataframe tbody tr th {\n",
       "        vertical-align: top;\n",
       "    }\n",
       "\n",
       "    .dataframe thead th {\n",
       "        text-align: right;\n",
       "    }\n",
       "</style>\n",
       "<table border=\"1\" class=\"dataframe\">\n",
       "  <thead>\n",
       "    <tr style=\"text-align: right;\">\n",
       "      <th></th>\n",
       "      <th>id</th>\n",
       "      <th>object_name</th>\n",
       "      <th>chain</th>\n",
       "      <th>object_type</th>\n",
       "      <th>address</th>\n",
       "      <th>number</th>\n",
       "    </tr>\n",
       "  </thead>\n",
       "  <tbody>\n",
       "  </tbody>\n",
       "</table>\n",
       "</div>"
      ],
      "text/plain": [
       "Empty DataFrame\n",
       "Columns: [id, object_name, chain, object_type, address, number]\n",
       "Index: []"
      ]
     },
     "execution_count": 8,
     "metadata": {},
     "output_type": "execute_result"
    }
   ],
   "source": [
    "data[data.duplicated(['object_name', 'chain', 'object_type', 'address'])]"
   ]
  },
  {
   "cell_type": "code",
   "execution_count": 9,
   "metadata": {},
   "outputs": [
    {
     "data": {
      "text/plain": [
       "id             0\n",
       "object_name    0\n",
       "chain          0\n",
       "object_type    0\n",
       "address        0\n",
       "number         0\n",
       "dtype: int64"
      ]
     },
     "execution_count": 9,
     "metadata": {},
     "output_type": "execute_result"
    }
   ],
   "source": [
    "data.isna().sum()"
   ]
  },
  {
   "cell_type": "markdown",
   "metadata": {},
   "source": [
    "Пропусков и дубликатов не обнаружено. Теперь приведем все к одному регистру в столбце с названиями заведений."
   ]
  },
  {
   "cell_type": "code",
   "execution_count": 10,
   "metadata": {},
   "outputs": [],
   "source": [
    "data['object_name'] = data['object_name'].str.lower()"
   ]
  },
  {
   "cell_type": "markdown",
   "metadata": {},
   "source": [
    "Данные готовы к дальнейшей работе с ними."
   ]
  },
  {
   "cell_type": "markdown",
   "metadata": {},
   "source": [
    "## Шаг №2. Анализ данных"
   ]
  },
  {
   "cell_type": "markdown",
   "metadata": {},
   "source": [
    "### Исследуйте соотношение видов объектов общественного питания по количеству."
   ]
  },
  {
   "cell_type": "markdown",
   "metadata": {},
   "source": [
    "Для начала посчитаем, сколько объектов каждого типа есть в нашем датасете."
   ]
  },
  {
   "cell_type": "code",
   "execution_count": 11,
   "metadata": {},
   "outputs": [
    {
     "data": {
      "text/plain": [
       "object_type\n",
       "бар                                   853\n",
       "буфет                                 571\n",
       "закусочная                            348\n",
       "кафе                                 6017\n",
       "кафетерий                             393\n",
       "магазин (отдел кулинарии)             272\n",
       "предприятие быстрого обслуживания    1891\n",
       "ресторан                             2276\n",
       "столовая                             2575\n",
       "Name: object_type, dtype: int64"
      ]
     },
     "execution_count": 11,
     "metadata": {},
     "output_type": "execute_result"
    }
   ],
   "source": [
    "data.groupby('object_type')['object_type'].count()"
   ]
  },
  {
   "cell_type": "markdown",
   "metadata": {},
   "source": [
    "Теперь - сколько всего заведений."
   ]
  },
  {
   "cell_type": "code",
   "execution_count": 62,
   "metadata": {},
   "outputs": [
    {
     "data": {
      "text/plain": [
       "15196"
      ]
     },
     "execution_count": 62,
     "metadata": {},
     "output_type": "execute_result"
    }
   ],
   "source": [
    "sum_data = data.groupby('object_type')['object_type'].count().sum()\n",
    "sum_data"
   ]
  },
  {
   "cell_type": "markdown",
   "metadata": {},
   "source": [
    "И теперь найдем процентное соотношение."
   ]
  },
  {
   "cell_type": "code",
   "execution_count": 13,
   "metadata": {},
   "outputs": [
    {
     "data": {
      "text/plain": [
       "object_type\n",
       "кафе                                 39.595946\n",
       "столовая                             16.945249\n",
       "ресторан                             14.977626\n",
       "предприятие быстрого обслуживания    12.444064\n",
       "бар                                   5.613319\n",
       "буфет                                 3.757568\n",
       "кафетерий                             2.586207\n",
       "закусочная                            2.290076\n",
       "магазин (отдел кулинарии)             1.789945\n",
       "Name: object_type, dtype: float64"
      ]
     },
     "execution_count": 13,
     "metadata": {},
     "output_type": "execute_result"
    }
   ],
   "source": [
    "(data.groupby('object_type')['object_type'].count() / \\\n",
    " data.groupby('object_type')['object_type'].count().sum() * 100).sort_values(ascending = False)"
   ]
  },
  {
   "cell_type": "markdown",
   "metadata": {},
   "source": [
    "<div class=\"alert alert-warning\">\n",
    "<b>Комментарий ревьюера: </b> Совет: можно изменить настройки форматирования датафрейма таким образом, чтобы доли отображались как проценты: <a>https://stackoverflow.com/a/36175424/11664121</a>. При этом сами данные не изменятся, настраивается только внешний вид выбранного датафрейма.\n",
    "</div>"
   ]
  },
  {
   "cell_type": "markdown",
   "metadata": {},
   "source": [
    "Примерно 40 % всех заведений составляют кафе, на втором месте - столовые (17 %), на третьем - рестораны (15 %)."
   ]
  },
  {
   "cell_type": "markdown",
   "metadata": {},
   "source": [
    "Построим график по количеству каждого типа заведений."
   ]
  },
  {
   "cell_type": "code",
   "execution_count": 14,
   "metadata": {
    "scrolled": false
   },
   "outputs": [
    {
     "data": {
      "image/png": "[encoded data removed]",
      "text/plain": [
       "<Figure size 432x432 with 1 Axes>"
      ]
     },
     "metadata": {
      "needs_background": "light"
     },
     "output_type": "display_data"
    }
   ],
   "source": [
    "plt.figure(figsize = (6,6))\n",
    "sns.countplot(y=\"object_type\", data=data, order=data['object_type'].value_counts().index) \n",
    "\n",
    "plt.title('Соотношение видов объектов общественного питания по количеству')\n",
    "plt.xlabel('Количество заведений')\n",
    "plt.ylabel('');"
   ]
  },
  {
   "cell_type": "markdown",
   "metadata": {},
   "source": [
    "По графику тоже прекрасно видно, что кафе гораздо больше, чем других видов объектов."
   ]
  },
  {
   "cell_type": "markdown",
   "metadata": {},
   "source": [
    "### Исследуйте соотношение сетевых и несетевых заведений по количеству."
   ]
  },
  {
   "cell_type": "markdown",
   "metadata": {},
   "source": [
    "Для начала узнаем, сколько у нас сетевых и несетевых заведений."
   ]
  },
  {
   "cell_type": "code",
   "execution_count": 15,
   "metadata": {},
   "outputs": [
    {
     "data": {
      "text/plain": [
       "нет    12245\n",
       "да      2951\n",
       "Name: chain, dtype: int64"
      ]
     },
     "execution_count": 15,
     "metadata": {},
     "output_type": "execute_result"
    }
   ],
   "source": [
    "data['chain'].value_counts()"
   ]
  },
  {
   "cell_type": "code",
   "execution_count": 63,
   "metadata": {},
   "outputs": [
    {
     "data": {
      "text/plain": [
       "нет    80.580416\n",
       "да     19.419584\n",
       "Name: chain, dtype: float64"
      ]
     },
     "execution_count": 63,
     "metadata": {},
     "output_type": "execute_result"
    }
   ],
   "source": [
    "data['chain'].value_counts() / sum_data * 100"
   ]
  },
  {
   "cell_type": "code",
   "execution_count": 17,
   "metadata": {},
   "outputs": [
    {
     "data": {
      "image/png": "[encoded data removed]",
      "text/plain": [
       "<Figure size 432x432 with 1 Axes>"
      ]
     },
     "metadata": {
      "needs_background": "light"
     },
     "output_type": "display_data"
    }
   ],
   "source": [
    "plt.figure(figsize = (6,6))\n",
    "sns.countplot(x=\"chain\", data=data)\n",
    "\n",
    "plt.title('Соотношение сетевых и несетевых заведений по количеству')\n",
    "plt.xlabel('')\n",
    "plt.ylabel('Количество заведений');"
   ]
  },
  {
   "cell_type": "markdown",
   "metadata": {},
   "source": [
    "Несетевых заведений - 80% от общего числа."
   ]
  },
  {
   "cell_type": "markdown",
   "metadata": {},
   "source": [
    "### Для какого вида объекта общественного питания характерно сетевое распространение?"
   ]
  },
  {
   "cell_type": "code",
   "execution_count": 18,
   "metadata": {},
   "outputs": [
    {
     "data": {
      "image/png": "[encoded data removed]",
      "text/plain": [
       "<Figure size 432x432 with 1 Axes>"
      ]
     },
     "metadata": {
      "needs_background": "light"
     },
     "output_type": "display_data"
    }
   ],
   "source": [
    "plt.figure(figsize = (6,6))\n",
    "sns.countplot(y=\"object_type\", hue='chain',  data=data, order=data['object_type'].value_counts().index)\n",
    "plt.title('Количество сетевых и несетевых заведений каждого типа')\n",
    "plt.xlabel('Количество заведений')\n",
    "plt.ylabel('');"
   ]
  },
  {
   "cell_type": "markdown",
   "metadata": {},
   "source": [
    "Из графика видно, что несетевых заведений каждого типа в разы больше, чем сетевых. Так что, чтобы ответить на вопрос, какому типу характерно сетевое распространение, надо узнать, для какого типа заведений разница в количестве между сетевыми и несетевыми - наименьшая. Для этого найдем доли сетевых заведений от несетевых."
   ]
  },
  {
   "cell_type": "code",
   "execution_count": 19,
   "metadata": {},
   "outputs": [
    {
     "data": {
      "text/plain": [
       "предприятие быстрого обслуживания    70.822042\n",
       "магазин (отдел кулинарии)            40.206186\n",
       "ресторан                             31.257209\n",
       "кафе                                 30.012965\n",
       "закусочная                           19.178082\n",
       "кафетерий                            14.912281\n",
       "бар                                   4.534314\n",
       "буфет                                 1.964286\n",
       "столовая                              0.116641\n",
       "Name: object_type, dtype: float64"
      ]
     },
     "execution_count": 19,
     "metadata": {},
     "output_type": "execute_result"
    }
   ],
   "source": [
    "(data[data['chain'] == 'да']['object_type'].value_counts() / \\\n",
    " data[data['chain'] == 'нет']['object_type'].value_counts() * 100).sort_values(ascending = False)"
   ]
  },
  {
   "cell_type": "markdown",
   "metadata": {},
   "source": [
    "Из графика и из цифр видно, что для предприятий быстрого обслуживания наиболее характерно сетевое распространение. Но все же хорошо, что мы посчитали еще и доли, потому что на 2 место вырвались отделы кулинарии, что было неочевидно по графику."
   ]
  },
  {
   "cell_type": "markdown",
   "metadata": {},
   "source": [
    "### Что характерно для сетевых заведений: много заведений с небольшим числом посадочных мест в каждом или мало заведений с большим количеством посадочных мест?"
   ]
  },
  {
   "cell_type": "markdown",
   "metadata": {},
   "source": [
    "Посмотрим для сетевых заведений медианное количество посадочных мест для каждого названия и построим диаграмму рассеивания."
   ]
  },
  {
   "cell_type": "code",
   "execution_count": 20,
   "metadata": {},
   "outputs": [
    {
     "data": {
      "text/html": [
       "<div>\n",
       "<style scoped>\n",
       "    .dataframe tbody tr th:only-of-type {\n",
       "        vertical-align: middle;\n",
       "    }\n",
       "\n",
       "    .dataframe tbody tr th {\n",
       "        vertical-align: top;\n",
       "    }\n",
       "\n",
       "    .dataframe thead th {\n",
       "        text-align: right;\n",
       "    }\n",
       "</style>\n",
       "<table border=\"1\" class=\"dataframe\">\n",
       "  <thead>\n",
       "    <tr style=\"text-align: right;\">\n",
       "      <th></th>\n",
       "      <th>objects</th>\n",
       "      <th>median_number</th>\n",
       "    </tr>\n",
       "    <tr>\n",
       "      <th>object_name</th>\n",
       "      <th></th>\n",
       "      <th></th>\n",
       "    </tr>\n",
       "  </thead>\n",
       "  <tbody>\n",
       "    <tr>\n",
       "      <td>beverly hills diner</td>\n",
       "      <td>1</td>\n",
       "      <td>88.0</td>\n",
       "    </tr>\n",
       "    <tr>\n",
       "      <td>bierloga</td>\n",
       "      <td>1</td>\n",
       "      <td>75.0</td>\n",
       "    </tr>\n",
       "    <tr>\n",
       "      <td>black &amp; white</td>\n",
       "      <td>1</td>\n",
       "      <td>40.0</td>\n",
       "    </tr>\n",
       "    <tr>\n",
       "      <td>bocconcino</td>\n",
       "      <td>3</td>\n",
       "      <td>68.0</td>\n",
       "    </tr>\n",
       "    <tr>\n",
       "      <td>boobo</td>\n",
       "      <td>1</td>\n",
       "      <td>46.0</td>\n",
       "    </tr>\n",
       "    <tr>\n",
       "      <td>...</td>\n",
       "      <td>...</td>\n",
       "      <td>...</td>\n",
       "    </tr>\n",
       "    <tr>\n",
       "      <td>ямми микс</td>\n",
       "      <td>1</td>\n",
       "      <td>2.0</td>\n",
       "    </tr>\n",
       "    <tr>\n",
       "      <td>ян примус</td>\n",
       "      <td>1</td>\n",
       "      <td>300.0</td>\n",
       "    </tr>\n",
       "    <tr>\n",
       "      <td>японский ресторан «ваби-саби»</td>\n",
       "      <td>1</td>\n",
       "      <td>155.0</td>\n",
       "    </tr>\n",
       "    <tr>\n",
       "      <td>япоша</td>\n",
       "      <td>2</td>\n",
       "      <td>105.0</td>\n",
       "    </tr>\n",
       "    <tr>\n",
       "      <td>ёрш</td>\n",
       "      <td>4</td>\n",
       "      <td>104.0</td>\n",
       "    </tr>\n",
       "  </tbody>\n",
       "</table>\n",
       "<p>577 rows × 2 columns</p>\n",
       "</div>"
      ],
      "text/plain": [
       "                               objects  median_number\n",
       "object_name                                          \n",
       "beverly hills diner                  1           88.0\n",
       "bierloga                             1           75.0\n",
       "black & white                        1           40.0\n",
       "bocconcino                           3           68.0\n",
       "boobo                                1           46.0\n",
       "...                                ...            ...\n",
       "ямми микс                            1            2.0\n",
       "ян примус                            1          300.0\n",
       "японский ресторан «ваби-саби»        1          155.0\n",
       "япоша                                2          105.0\n",
       "ёрш                                  4          104.0\n",
       "\n",
       "[577 rows x 2 columns]"
      ]
     },
     "execution_count": 20,
     "metadata": {},
     "output_type": "execute_result"
    }
   ],
   "source": [
    "chain_objects = data[data['chain'] == 'да'].groupby('object_name').agg({'object_name':'count', 'number':'median'})\n",
    "chain_objects.columns = ['objects', 'median_number']\n",
    "chain_objects"
   ]
  },
  {
   "cell_type": "code",
   "execution_count": 21,
   "metadata": {},
   "outputs": [
    {
     "data": {
      "image/png": "[encoded data removed]",
      "text/plain": [
       "<Figure size 432x432 with 1 Axes>"
      ]
     },
     "metadata": {
      "needs_background": "light"
     },
     "output_type": "display_data"
    }
   ],
   "source": [
    "plt.figure(figsize=(6,6))\n",
    "plt.scatter(chain_objects['median_number'], chain_objects['objects'])\n",
    "plt.xlabel('Медианное кол-во посадочных мест')\n",
    "plt.ylabel('Кол-во объектов в сети')\n",
    "plt.title('Совместное распределение количества сетевых заведений \\nи их медианного количества посадочных мест', fontsize=13)\n",
    "plt.axhline(np.percentile(chain_objects['objects'], 90), linestyle='--', color='black')\n",
    "plt.axvline(np.percentile(chain_objects['median_number'], 90), linestyle='--', color='black')\n",
    "plt.text(390,7, '90% заведений ниже этой линии')\n",
    "plt.text(135,100, '90% заведений левее этой линии')\n",
    "plt.show()"
   ]
  },
  {
   "cell_type": "code",
   "execution_count": 22,
   "metadata": {},
   "outputs": [
    {
     "name": "stdout",
     "output_type": "stream",
     "text": [
      "Медианное значение посадочных мест: 125\n",
      "Медианное значение количества заведений в одной сети: 8\n"
     ]
    }
   ],
   "source": [
    "print('Медианное значение посадочных мест:', int(np.percentile(chain_objects['median_number'], 90)))\n",
    "print('Медианное значение количества заведений в одной сети:', int(np.percentile(chain_objects['objects'], 90)))\n",
    "    "
   ]
  },
  {
   "cell_type": "markdown",
   "metadata": {},
   "source": [
    "У 90 % сетевых заведений менее 125 посадочных мест и менее 8 ресторанов. Таким образом, для сетевых заведений характерно маленькое количество ресторанов, но большое количество посадочных мест."
   ]
  },
  {
   "cell_type": "markdown",
   "metadata": {},
   "source": [
    "### Для каждого вида объекта общественного питания опишите среднее количество посадочных мест. Какой вид предоставляет в среднем самое большое количество посадочных мест?"
   ]
  },
  {
   "cell_type": "code",
   "execution_count": 23,
   "metadata": {},
   "outputs": [],
   "source": [
    "data_mean_number = data.pivot_table(index='object_type', values='number', aggfunc='median')\\\n",
    ".sort_values(by='number', ascending=False).reset_index()"
   ]
  },
  {
   "cell_type": "code",
   "execution_count": 24,
   "metadata": {},
   "outputs": [
    {
     "data": {
      "text/html": [
       "<div>\n",
       "<style scoped>\n",
       "    .dataframe tbody tr th:only-of-type {\n",
       "        vertical-align: middle;\n",
       "    }\n",
       "\n",
       "    .dataframe tbody tr th {\n",
       "        vertical-align: top;\n",
       "    }\n",
       "\n",
       "    .dataframe thead th {\n",
       "        text-align: right;\n",
       "    }\n",
       "</style>\n",
       "<table border=\"1\" class=\"dataframe\">\n",
       "  <thead>\n",
       "    <tr style=\"text-align: right;\">\n",
       "      <th></th>\n",
       "      <th>object_type</th>\n",
       "      <th>number</th>\n",
       "    </tr>\n",
       "  </thead>\n",
       "  <tbody>\n",
       "    <tr>\n",
       "      <td>0</td>\n",
       "      <td>столовая</td>\n",
       "      <td>103</td>\n",
       "    </tr>\n",
       "    <tr>\n",
       "      <td>1</td>\n",
       "      <td>ресторан</td>\n",
       "      <td>80</td>\n",
       "    </tr>\n",
       "    <tr>\n",
       "      <td>2</td>\n",
       "      <td>бар</td>\n",
       "      <td>35</td>\n",
       "    </tr>\n",
       "    <tr>\n",
       "      <td>3</td>\n",
       "      <td>буфет</td>\n",
       "      <td>32</td>\n",
       "    </tr>\n",
       "    <tr>\n",
       "      <td>4</td>\n",
       "      <td>кафе</td>\n",
       "      <td>32</td>\n",
       "    </tr>\n",
       "    <tr>\n",
       "      <td>5</td>\n",
       "      <td>кафетерий</td>\n",
       "      <td>6</td>\n",
       "    </tr>\n",
       "    <tr>\n",
       "      <td>6</td>\n",
       "      <td>предприятие быстрого обслуживания</td>\n",
       "      <td>6</td>\n",
       "    </tr>\n",
       "    <tr>\n",
       "      <td>7</td>\n",
       "      <td>закусочная</td>\n",
       "      <td>0</td>\n",
       "    </tr>\n",
       "    <tr>\n",
       "      <td>8</td>\n",
       "      <td>магазин (отдел кулинарии)</td>\n",
       "      <td>0</td>\n",
       "    </tr>\n",
       "  </tbody>\n",
       "</table>\n",
       "</div>"
      ],
      "text/plain": [
       "                         object_type  number\n",
       "0                           столовая     103\n",
       "1                           ресторан      80\n",
       "2                                бар      35\n",
       "3                              буфет      32\n",
       "4                               кафе      32\n",
       "5                          кафетерий       6\n",
       "6  предприятие быстрого обслуживания       6\n",
       "7                         закусочная       0\n",
       "8          магазин (отдел кулинарии)       0"
      ]
     },
     "execution_count": 24,
     "metadata": {},
     "output_type": "execute_result"
    }
   ],
   "source": [
    "data_mean_number"
   ]
  },
  {
   "cell_type": "code",
   "execution_count": 25,
   "metadata": {},
   "outputs": [
    {
     "data": {
      "image/png": "[encoded data removed]",
      "text/plain": [
       "<Figure size 432x432 with 1 Axes>"
      ]
     },
     "metadata": {
      "needs_background": "light"
     },
     "output_type": "display_data"
    }
   ],
   "source": [
    "plt.figure(figsize = (6,6))\n",
    "sns.barplot(y='object_type', x='number', data=data_mean_number) \n",
    "\n",
    "plt.title('Cреднее количество посадочных мест')\n",
    "plt.xlabel('Среднее количество мест')\n",
    "plt.ylabel('');"
   ]
  },
  {
   "cell_type": "markdown",
   "metadata": {},
   "source": [
    "Наибольшее среднее количество мест - у столовых, что логично, так как необходимо накормить большое количество человек в одно время. На втором месте - рестораны."
   ]
  },
  {
   "cell_type": "markdown",
   "metadata": {},
   "source": [
    "### Выделите в отдельный столбец информацию об улице из столбца address ."
   ]
  },
  {
   "cell_type": "code",
   "execution_count": 26,
   "metadata": {},
   "outputs": [],
   "source": [
    "data['street'] = data['address'].apply(lambda x: x.split(', ')[1])"
   ]
  },
  {
   "cell_type": "code",
   "execution_count": 27,
   "metadata": {},
   "outputs": [
    {
     "data": {
      "text/html": [
       "<div>\n",
       "<style scoped>\n",
       "    .dataframe tbody tr th:only-of-type {\n",
       "        vertical-align: middle;\n",
       "    }\n",
       "\n",
       "    .dataframe tbody tr th {\n",
       "        vertical-align: top;\n",
       "    }\n",
       "\n",
       "    .dataframe thead th {\n",
       "        text-align: right;\n",
       "    }\n",
       "</style>\n",
       "<table border=\"1\" class=\"dataframe\">\n",
       "  <thead>\n",
       "    <tr style=\"text-align: right;\">\n",
       "      <th></th>\n",
       "      <th>id</th>\n",
       "      <th>object_name</th>\n",
       "      <th>chain</th>\n",
       "      <th>object_type</th>\n",
       "      <th>address</th>\n",
       "      <th>number</th>\n",
       "      <th>street</th>\n",
       "    </tr>\n",
       "  </thead>\n",
       "  <tbody>\n",
       "    <tr>\n",
       "      <td>0</td>\n",
       "      <td>151635</td>\n",
       "      <td>сметана</td>\n",
       "      <td>нет</td>\n",
       "      <td>кафе</td>\n",
       "      <td>город Москва, улица Егора Абакумова, дом 9</td>\n",
       "      <td>48</td>\n",
       "      <td>улица Егора Абакумова</td>\n",
       "    </tr>\n",
       "    <tr>\n",
       "      <td>1</td>\n",
       "      <td>77874</td>\n",
       "      <td>родник</td>\n",
       "      <td>нет</td>\n",
       "      <td>кафе</td>\n",
       "      <td>город Москва, улица Талалихина, дом 2/1, корпус 1</td>\n",
       "      <td>35</td>\n",
       "      <td>улица Талалихина</td>\n",
       "    </tr>\n",
       "    <tr>\n",
       "      <td>2</td>\n",
       "      <td>24309</td>\n",
       "      <td>кафе «академия»</td>\n",
       "      <td>нет</td>\n",
       "      <td>кафе</td>\n",
       "      <td>город Москва, Абельмановская улица, дом 6</td>\n",
       "      <td>95</td>\n",
       "      <td>Абельмановская улица</td>\n",
       "    </tr>\n",
       "    <tr>\n",
       "      <td>3</td>\n",
       "      <td>21894</td>\n",
       "      <td>пиццетория</td>\n",
       "      <td>да</td>\n",
       "      <td>кафе</td>\n",
       "      <td>город Москва, Абрамцевская улица, дом 1</td>\n",
       "      <td>40</td>\n",
       "      <td>Абрамцевская улица</td>\n",
       "    </tr>\n",
       "    <tr>\n",
       "      <td>4</td>\n",
       "      <td>119365</td>\n",
       "      <td>кафе «вишневая метель»</td>\n",
       "      <td>нет</td>\n",
       "      <td>кафе</td>\n",
       "      <td>город Москва, Абрамцевская улица, дом 9, корпус 1</td>\n",
       "      <td>50</td>\n",
       "      <td>Абрамцевская улица</td>\n",
       "    </tr>\n",
       "    <tr>\n",
       "      <td>...</td>\n",
       "      <td>...</td>\n",
       "      <td>...</td>\n",
       "      <td>...</td>\n",
       "      <td>...</td>\n",
       "      <td>...</td>\n",
       "      <td>...</td>\n",
       "      <td>...</td>\n",
       "    </tr>\n",
       "    <tr>\n",
       "      <td>15359</td>\n",
       "      <td>222077</td>\n",
       "      <td>кофейня «шоколадница»</td>\n",
       "      <td>да</td>\n",
       "      <td>кафе</td>\n",
       "      <td>город Москва, Кантемировская улица, дом 47</td>\n",
       "      <td>72</td>\n",
       "      <td>Кантемировская улица</td>\n",
       "    </tr>\n",
       "    <tr>\n",
       "      <td>15360</td>\n",
       "      <td>219759</td>\n",
       "      <td>шоколадница</td>\n",
       "      <td>да</td>\n",
       "      <td>кафе</td>\n",
       "      <td>город Москва, улица Вавилова, дом 3</td>\n",
       "      <td>36</td>\n",
       "      <td>улица Вавилова</td>\n",
       "    </tr>\n",
       "    <tr>\n",
       "      <td>15361</td>\n",
       "      <td>208537</td>\n",
       "      <td>шоколадница</td>\n",
       "      <td>да</td>\n",
       "      <td>кафе</td>\n",
       "      <td>город Москва, 3-й Крутицкий переулок, дом 18</td>\n",
       "      <td>50</td>\n",
       "      <td>3-й Крутицкий переулок</td>\n",
       "    </tr>\n",
       "    <tr>\n",
       "      <td>15362</td>\n",
       "      <td>209264</td>\n",
       "      <td>шоколадница</td>\n",
       "      <td>да</td>\n",
       "      <td>кафе</td>\n",
       "      <td>город Москва, улица Земляной Вал, дом 33</td>\n",
       "      <td>10</td>\n",
       "      <td>улица Земляной Вал</td>\n",
       "    </tr>\n",
       "    <tr>\n",
       "      <td>15364</td>\n",
       "      <td>221900</td>\n",
       "      <td>шоколадница</td>\n",
       "      <td>да</td>\n",
       "      <td>кафе</td>\n",
       "      <td>город Москва, поселение Московский, Киевское ш...</td>\n",
       "      <td>36</td>\n",
       "      <td>поселение Московский</td>\n",
       "    </tr>\n",
       "  </tbody>\n",
       "</table>\n",
       "<p>15196 rows × 7 columns</p>\n",
       "</div>"
      ],
      "text/plain": [
       "           id             object_name chain object_type  \\\n",
       "0      151635                 сметана   нет        кафе   \n",
       "1       77874                  родник   нет        кафе   \n",
       "2       24309         кафе «академия»   нет        кафе   \n",
       "3       21894              пиццетория    да        кафе   \n",
       "4      119365  кафе «вишневая метель»   нет        кафе   \n",
       "...       ...                     ...   ...         ...   \n",
       "15359  222077   кофейня «шоколадница»    да        кафе   \n",
       "15360  219759             шоколадница    да        кафе   \n",
       "15361  208537             шоколадница    да        кафе   \n",
       "15362  209264             шоколадница    да        кафе   \n",
       "15364  221900             шоколадница    да        кафе   \n",
       "\n",
       "                                                 address  number  \\\n",
       "0             город Москва, улица Егора Абакумова, дом 9      48   \n",
       "1      город Москва, улица Талалихина, дом 2/1, корпус 1      35   \n",
       "2              город Москва, Абельмановская улица, дом 6      95   \n",
       "3                город Москва, Абрамцевская улица, дом 1      40   \n",
       "4      город Москва, Абрамцевская улица, дом 9, корпус 1      50   \n",
       "...                                                  ...     ...   \n",
       "15359         город Москва, Кантемировская улица, дом 47      72   \n",
       "15360                город Москва, улица Вавилова, дом 3      36   \n",
       "15361       город Москва, 3-й Крутицкий переулок, дом 18      50   \n",
       "15362           город Москва, улица Земляной Вал, дом 33      10   \n",
       "15364  город Москва, поселение Московский, Киевское ш...      36   \n",
       "\n",
       "                       street  \n",
       "0       улица Егора Абакумова  \n",
       "1            улица Талалихина  \n",
       "2        Абельмановская улица  \n",
       "3          Абрамцевская улица  \n",
       "4          Абрамцевская улица  \n",
       "...                       ...  \n",
       "15359    Кантемировская улица  \n",
       "15360          улица Вавилова  \n",
       "15361  3-й Крутицкий переулок  \n",
       "15362      улица Земляной Вал  \n",
       "15364    поселение Московский  \n",
       "\n",
       "[15196 rows x 7 columns]"
      ]
     },
     "execution_count": 27,
     "metadata": {},
     "output_type": "execute_result"
    }
   ],
   "source": [
    "data"
   ]
  },
  {
   "cell_type": "markdown",
   "metadata": {},
   "source": [
    "### Постройте график топ-10 улиц по количеству объектов общественного питания. Воспользуйтесь внешней информацией и ответьте на вопрос — в каких районах Москвы находятся эти улицы?"
   ]
  },
  {
   "cell_type": "markdown",
   "metadata": {},
   "source": [
    "Посмотрим на топ Московских улиц по количеству заведений."
   ]
  },
  {
   "cell_type": "code",
   "execution_count": 28,
   "metadata": {},
   "outputs": [
    {
     "data": {
      "text/plain": [
       "город Зеленоград          230\n",
       "проспект Мира             197\n",
       "Профсоюзная улица         180\n",
       "Ленинградский проспект    170\n",
       "Пресненская набережная    165\n",
       "Варшавское шоссе          160\n",
       "Ленинский проспект        147\n",
       "поселение Сосенское       137\n",
       "проспект Вернадского      127\n",
       "Кутузовский проспект      114\n",
       "Каширское шоссе           110\n",
       "Кировоградская улица      107\n",
       "Name: street, dtype: int64"
      ]
     },
     "execution_count": 28,
     "metadata": {},
     "output_type": "execute_result"
    }
   ],
   "source": [
    "data['street'].value_counts().sort_values(ascending = False).head(12)"
   ]
  },
  {
   "cell_type": "markdown",
   "metadata": {},
   "source": [
    "В топе есть город Зеленоград и поселение Сосенское без указания улиц. Лучше их убрать, потому что они влияют на результаты исследования. (Зеленоград и Сосенское это все же не улицы)"
   ]
  },
  {
   "cell_type": "code",
   "execution_count": 29,
   "metadata": {},
   "outputs": [
    {
     "data": {
      "text/plain": [
       "проспект Мира             197\n",
       "Профсоюзная улица         180\n",
       "Ленинградский проспект    170\n",
       "Пресненская набережная    165\n",
       "Варшавское шоссе          160\n",
       "Ленинский проспект        147\n",
       "проспект Вернадского      127\n",
       "Кутузовский проспект      114\n",
       "Каширское шоссе           110\n",
       "Кировоградская улица      107\n",
       "Name: street, dtype: int64"
      ]
     },
     "execution_count": 29,
     "metadata": {},
     "output_type": "execute_result"
    }
   ],
   "source": [
    "data_new = data.loc[data['street'] != 'город Зеленоград']\n",
    "data_new = data_new.loc[data['street'] != 'поселение Сосенское']\n",
    "data_new['street'].value_counts().sort_values(ascending = False).head(10)"
   ]
  },
  {
   "cell_type": "code",
   "execution_count": 30,
   "metadata": {},
   "outputs": [
    {
     "data": {
      "image/png": "[encoded data removed]",
      "text/plain": [
       "<Figure size 432x432 with 1 Axes>"
      ]
     },
     "metadata": {
      "needs_background": "light"
     },
     "output_type": "display_data"
    }
   ],
   "source": [
    "plt.figure(figsize = (6,6))\n",
    "sns.countplot(y=\"street\", data=data_new, order=data_new['street'].value_counts().head(10).index) \n",
    "\n",
    "plt.title('Топ-10 улиц Москвы по количеству заведений')\n",
    "plt.xlabel('Количество заведений')\n",
    "plt.ylabel('');"
   ]
  },
  {
   "cell_type": "markdown",
   "metadata": {},
   "source": [
    "Получили топ-10 улиц Москвы. Среди них лидер - проспект Мира.\n",
    "\n",
    "Теперь посмотрим, в каких районах эти улицы находятся."
   ]
  },
  {
   "cell_type": "markdown",
   "metadata": {},
   "source": [
    "Скачаем датасеты с портала открытых данных правительства Москвы и сохраним в гугл-таблицах."
   ]
  },
  {
   "cell_type": "markdown",
   "metadata": {},
   "source": [
    "1YxnZ3u7znX8fD_caYbkSENfE7f4Ctjr4zHgvFmj_B1o - улицы Москвы\n",
    "\n",
    "1QnFQQZOynA5DIj2aHZdefKc_VO6I79bACp7rKaFKyf8 - районы Москвы"
   ]
  },
  {
   "cell_type": "code",
   "execution_count": 31,
   "metadata": {},
   "outputs": [
    {
     "data": {
      "text/html": [
       "<div>\n",
       "<style scoped>\n",
       "    .dataframe tbody tr th:only-of-type {\n",
       "        vertical-align: middle;\n",
       "    }\n",
       "\n",
       "    .dataframe tbody tr th {\n",
       "        vertical-align: top;\n",
       "    }\n",
       "\n",
       "    .dataframe thead th {\n",
       "        text-align: right;\n",
       "    }\n",
       "</style>\n",
       "<table border=\"1\" class=\"dataframe\">\n",
       "  <thead>\n",
       "    <tr style=\"text-align: right;\">\n",
       "      <th></th>\n",
       "      <th>UM_CODE</th>\n",
       "      <th>UM_NAMEF</th>\n",
       "      <th>global_id</th>\n",
       "      <th>UM_NAMES</th>\n",
       "      <th>UM_TRANS</th>\n",
       "      <th>UM_TYPE</th>\n",
       "      <th>UM_TM</th>\n",
       "      <th>UM_TE</th>\n",
       "      <th>UM_KLADR</th>\n",
       "    </tr>\n",
       "  </thead>\n",
       "  <tbody>\n",
       "    <tr>\n",
       "      <td>0</td>\n",
       "      <td>008880</td>\n",
       "      <td>1-й Ирининский переулок</td>\n",
       "      <td>58481065</td>\n",
       "      <td>1-й Ирининский пер.</td>\n",
       "      <td>Pervy'j Irininskij pereulok</td>\n",
       "      <td>002</td>\n",
       "      <td>NaN</td>\n",
       "      <td>0102</td>\n",
       "      <td>77000000000706300</td>\n",
       "    </tr>\n",
       "    <tr>\n",
       "      <td>1</td>\n",
       "      <td>008890</td>\n",
       "      <td>2-й Ирининский переулок</td>\n",
       "      <td>58481066</td>\n",
       "      <td>2-й Ирининский пер.</td>\n",
       "      <td>Vtoroj Irininskij pereulok</td>\n",
       "      <td>002</td>\n",
       "      <td>NaN</td>\n",
       "      <td>0102</td>\n",
       "      <td>77000000000362200</td>\n",
       "    </tr>\n",
       "    <tr>\n",
       "      <td>2</td>\n",
       "      <td>008891</td>\n",
       "      <td>3-й Ирининский переулок</td>\n",
       "      <td>58481067</td>\n",
       "      <td>3-й Ирининский пер.</td>\n",
       "      <td>Tretij Irininskij pereulok</td>\n",
       "      <td>002</td>\n",
       "      <td>NaN</td>\n",
       "      <td>0102</td>\n",
       "      <td>77000000000362300</td>\n",
       "    </tr>\n",
       "    <tr>\n",
       "      <td>3</td>\n",
       "      <td>008910</td>\n",
       "      <td>Иркутская улица</td>\n",
       "      <td>58481068</td>\n",
       "      <td>Иркутская ул.</td>\n",
       "      <td>Irkutskaya ulicza</td>\n",
       "      <td>001</td>\n",
       "      <td>NaN</td>\n",
       "      <td>0406</td>\n",
       "      <td>77000000000139700</td>\n",
       "    </tr>\n",
       "    <tr>\n",
       "      <td>4</td>\n",
       "      <td>008920</td>\n",
       "      <td>1-й Иртышский проезд</td>\n",
       "      <td>58481069</td>\n",
       "      <td>1-й Иртышский пр.</td>\n",
       "      <td>Pervy'j Irty'shskij proezd</td>\n",
       "      <td>003</td>\n",
       "      <td>NaN</td>\n",
       "      <td>0406</td>\n",
       "      <td>77000000000331600</td>\n",
       "    </tr>\n",
       "    <tr>\n",
       "      <td>...</td>\n",
       "      <td>...</td>\n",
       "      <td>...</td>\n",
       "      <td>...</td>\n",
       "      <td>...</td>\n",
       "      <td>...</td>\n",
       "      <td>...</td>\n",
       "      <td>...</td>\n",
       "      <td>...</td>\n",
       "      <td>...</td>\n",
       "    </tr>\n",
       "    <tr>\n",
       "      <td>5277</td>\n",
       "      <td>050170</td>\n",
       "      <td>5-й Самоцветный переулок</td>\n",
       "      <td>1078927555</td>\n",
       "      <td>5-й Самоцветный пер.</td>\n",
       "      <td>Pyaty`j Samoczvetny`j pereulok</td>\n",
       "      <td>002</td>\n",
       "      <td>737000</td>\n",
       "      <td>1209</td>\n",
       "      <td>77000005000020100</td>\n",
       "    </tr>\n",
       "    <tr>\n",
       "      <td>5278</td>\n",
       "      <td>050175</td>\n",
       "      <td>6-й Самоцветный переулок</td>\n",
       "      <td>1078927592</td>\n",
       "      <td>6-й Самоцветный пер.</td>\n",
       "      <td>Shestoj Samoczvetny`j pereulok</td>\n",
       "      <td>002</td>\n",
       "      <td>737000</td>\n",
       "      <td>1209</td>\n",
       "      <td>77000005000020200</td>\n",
       "    </tr>\n",
       "    <tr>\n",
       "      <td>5279</td>\n",
       "      <td>050180</td>\n",
       "      <td>7-й Самоцветный переулок</td>\n",
       "      <td>1078927596</td>\n",
       "      <td>7-й Самоцветный пер.</td>\n",
       "      <td>Sed`moj Samoczvetny`j pereulok</td>\n",
       "      <td>002</td>\n",
       "      <td>737000</td>\n",
       "      <td>1209</td>\n",
       "      <td>77000005000020300</td>\n",
       "    </tr>\n",
       "    <tr>\n",
       "      <td>5280</td>\n",
       "      <td>050185</td>\n",
       "      <td>8-й Самоцветный переулок</td>\n",
       "      <td>1078927598</td>\n",
       "      <td>8-й Самоцветный пер.</td>\n",
       "      <td>Vos`moj Samoczvetny`j pereulok</td>\n",
       "      <td>002</td>\n",
       "      <td>737000</td>\n",
       "      <td>1209</td>\n",
       "      <td>77000005000020400</td>\n",
       "    </tr>\n",
       "    <tr>\n",
       "      <td>5281</td>\n",
       "      <td>050190</td>\n",
       "      <td>улица Карасёва</td>\n",
       "      <td>1080911328</td>\n",
       "      <td>ул. Карасёва</td>\n",
       "      <td>ulicza Karasyova</td>\n",
       "      <td>001</td>\n",
       "      <td>NaN</td>\n",
       "      <td>1109</td>\n",
       "      <td>NaN</td>\n",
       "    </tr>\n",
       "  </tbody>\n",
       "</table>\n",
       "<p>5282 rows × 9 columns</p>\n",
       "</div>"
      ],
      "text/plain": [
       "     UM_CODE                  UM_NAMEF   global_id              UM_NAMES  \\\n",
       "0     008880   1-й Ирининский переулок    58481065   1-й Ирининский пер.   \n",
       "1     008890   2-й Ирининский переулок    58481066   2-й Ирининский пер.   \n",
       "2     008891   3-й Ирининский переулок    58481067   3-й Ирининский пер.   \n",
       "3     008910           Иркутская улица    58481068         Иркутская ул.   \n",
       "4     008920      1-й Иртышский проезд    58481069     1-й Иртышский пр.   \n",
       "...      ...                       ...         ...                   ...   \n",
       "5277  050170  5-й Самоцветный переулок  1078927555  5-й Самоцветный пер.   \n",
       "5278  050175  6-й Самоцветный переулок  1078927592  6-й Самоцветный пер.   \n",
       "5279  050180  7-й Самоцветный переулок  1078927596  7-й Самоцветный пер.   \n",
       "5280  050185  8-й Самоцветный переулок  1078927598  8-й Самоцветный пер.   \n",
       "5281  050190            улица Карасёва  1080911328          ул. Карасёва   \n",
       "\n",
       "                            UM_TRANS UM_TYPE   UM_TM UM_TE           UM_KLADR  \n",
       "0        Pervy'j Irininskij pereulok     002     NaN  0102  77000000000706300  \n",
       "1         Vtoroj Irininskij pereulok     002     NaN  0102  77000000000362200  \n",
       "2         Tretij Irininskij pereulok     002     NaN  0102  77000000000362300  \n",
       "3                  Irkutskaya ulicza     001     NaN  0406  77000000000139700  \n",
       "4         Pervy'j Irty'shskij proezd     003     NaN  0406  77000000000331600  \n",
       "...                              ...     ...     ...   ...                ...  \n",
       "5277  Pyaty`j Samoczvetny`j pereulok     002  737000  1209  77000005000020100  \n",
       "5278  Shestoj Samoczvetny`j pereulok     002  737000  1209  77000005000020200  \n",
       "5279  Sed`moj Samoczvetny`j pereulok     002  737000  1209  77000005000020300  \n",
       "5280  Vos`moj Samoczvetny`j pereulok     002  737000  1209  77000005000020400  \n",
       "5281                ulicza Karasyova     001     NaN  1109                NaN  \n",
       "\n",
       "[5282 rows x 9 columns]"
      ]
     },
     "execution_count": 31,
     "metadata": {},
     "output_type": "execute_result"
    }
   ],
   "source": [
    "from io import BytesIO\n",
    "import requests\n",
    "spreadsheet_id = '1YxnZ3u7znX8fD_caYbkSENfE7f4Ctjr4zHgvFmj_B1o'\n",
    "file_name = 'https://docs.google.com/spreadsheets/d/{}/export?format=csv'.format(spreadsheet_id)\n",
    "r = requests.get(file_name)\n",
    "streets = pd.read_csv(BytesIO(r.content))\n",
    "streets"
   ]
  },
  {
   "cell_type": "code",
   "execution_count": 32,
   "metadata": {},
   "outputs": [
    {
     "data": {
      "text/html": [
       "<div>\n",
       "<style scoped>\n",
       "    .dataframe tbody tr th:only-of-type {\n",
       "        vertical-align: middle;\n",
       "    }\n",
       "\n",
       "    .dataframe tbody tr th {\n",
       "        vertical-align: top;\n",
       "    }\n",
       "\n",
       "    .dataframe thead th {\n",
       "        text-align: right;\n",
       "    }\n",
       "</style>\n",
       "<table border=\"1\" class=\"dataframe\">\n",
       "  <thead>\n",
       "    <tr style=\"text-align: right;\">\n",
       "      <th></th>\n",
       "      <th>Kod</th>\n",
       "      <th>Name</th>\n",
       "      <th>global_id</th>\n",
       "      <th>Latin_name</th>\n",
       "      <th>Type</th>\n",
       "      <th>Kod_okato</th>\n",
       "    </tr>\n",
       "  </thead>\n",
       "  <tbody>\n",
       "    <tr>\n",
       "      <td>0</td>\n",
       "      <td>100</td>\n",
       "      <td>Центральный административный округ</td>\n",
       "      <td>58703558</td>\n",
       "      <td>Czentral`ny'j administrativny'j okrug</td>\n",
       "      <td>2</td>\n",
       "      <td>45286000</td>\n",
       "    </tr>\n",
       "    <tr>\n",
       "      <td>1</td>\n",
       "      <td>101</td>\n",
       "      <td>район Арбат</td>\n",
       "      <td>58703559</td>\n",
       "      <td>rajon Arbat</td>\n",
       "      <td>3</td>\n",
       "      <td>45286552</td>\n",
       "    </tr>\n",
       "    <tr>\n",
       "      <td>2</td>\n",
       "      <td>102</td>\n",
       "      <td>Басманный район</td>\n",
       "      <td>58703560</td>\n",
       "      <td>Basmanny'j rajon</td>\n",
       "      <td>3</td>\n",
       "      <td>45286555</td>\n",
       "    </tr>\n",
       "    <tr>\n",
       "      <td>3</td>\n",
       "      <td>103</td>\n",
       "      <td>район Замоскворечье</td>\n",
       "      <td>58703561</td>\n",
       "      <td>rajon Zamoskvorech`e</td>\n",
       "      <td>3</td>\n",
       "      <td>45286560</td>\n",
       "    </tr>\n",
       "    <tr>\n",
       "      <td>4</td>\n",
       "      <td>104</td>\n",
       "      <td>Красносельский район</td>\n",
       "      <td>58703562</td>\n",
       "      <td>Krasnosel`skij rajon</td>\n",
       "      <td>3</td>\n",
       "      <td>45286565</td>\n",
       "    </tr>\n",
       "    <tr>\n",
       "      <td>...</td>\n",
       "      <td>...</td>\n",
       "      <td>...</td>\n",
       "      <td>...</td>\n",
       "      <td>...</td>\n",
       "      <td>...</td>\n",
       "      <td>...</td>\n",
       "    </tr>\n",
       "    <tr>\n",
       "      <td>153</td>\n",
       "      <td>1206</td>\n",
       "      <td>поселение Новофедоровское</td>\n",
       "      <td>58703712</td>\n",
       "      <td>poselenie Novofedorovskoe</td>\n",
       "      <td>4</td>\n",
       "      <td>45298567</td>\n",
       "    </tr>\n",
       "    <tr>\n",
       "      <td>154</td>\n",
       "      <td>1207</td>\n",
       "      <td>поселение Первомайское</td>\n",
       "      <td>58703713</td>\n",
       "      <td>poselenie Pervomajskoe</td>\n",
       "      <td>4</td>\n",
       "      <td>45298572</td>\n",
       "    </tr>\n",
       "    <tr>\n",
       "      <td>155</td>\n",
       "      <td>1208</td>\n",
       "      <td>поселение Роговское</td>\n",
       "      <td>58703714</td>\n",
       "      <td>poselenie Rogovskoe</td>\n",
       "      <td>4</td>\n",
       "      <td>45298575</td>\n",
       "    </tr>\n",
       "    <tr>\n",
       "      <td>156</td>\n",
       "      <td>1209</td>\n",
       "      <td>поселение Троицк</td>\n",
       "      <td>58703715</td>\n",
       "      <td>poselenie Troiczk</td>\n",
       "      <td>4</td>\n",
       "      <td>45298578</td>\n",
       "    </tr>\n",
       "    <tr>\n",
       "      <td>157</td>\n",
       "      <td>1210</td>\n",
       "      <td>поселение Щаповское</td>\n",
       "      <td>58703716</td>\n",
       "      <td>poselenie Shhapovskoe</td>\n",
       "      <td>4</td>\n",
       "      <td>45298583</td>\n",
       "    </tr>\n",
       "  </tbody>\n",
       "</table>\n",
       "<p>158 rows × 6 columns</p>\n",
       "</div>"
      ],
      "text/plain": [
       "      Kod                                Name  global_id  \\\n",
       "0     100  Центральный административный округ   58703558   \n",
       "1     101                         район Арбат   58703559   \n",
       "2     102                     Басманный район   58703560   \n",
       "3     103                 район Замоскворечье   58703561   \n",
       "4     104                Красносельский район   58703562   \n",
       "..    ...                                 ...        ...   \n",
       "153  1206           поселение Новофедоровское   58703712   \n",
       "154  1207              поселение Первомайское   58703713   \n",
       "155  1208                 поселение Роговское   58703714   \n",
       "156  1209                    поселение Троицк   58703715   \n",
       "157  1210                 поселение Щаповское   58703716   \n",
       "\n",
       "                                Latin_name  Type  Kod_okato  \n",
       "0    Czentral`ny'j administrativny'j okrug     2   45286000  \n",
       "1                              rajon Arbat     3   45286552  \n",
       "2                         Basmanny'j rajon     3   45286555  \n",
       "3                     rajon Zamoskvorech`e     3   45286560  \n",
       "4                     Krasnosel`skij rajon     3   45286565  \n",
       "..                                     ...   ...        ...  \n",
       "153              poselenie Novofedorovskoe     4   45298567  \n",
       "154                 poselenie Pervomajskoe     4   45298572  \n",
       "155                    poselenie Rogovskoe     4   45298575  \n",
       "156                      poselenie Troiczk     4   45298578  \n",
       "157                  poselenie Shhapovskoe     4   45298583  \n",
       "\n",
       "[158 rows x 6 columns]"
      ]
     },
     "execution_count": 32,
     "metadata": {},
     "output_type": "execute_result"
    }
   ],
   "source": [
    "spreadsheet_id = '1QnFQQZOynA5DIj2aHZdefKc_VO6I79bACp7rKaFKyf8'\n",
    "file_name = 'https://docs.google.com/spreadsheets/d/{}/export?format=csv'.format(spreadsheet_id)\n",
    "r = requests.get(file_name)\n",
    "districts = pd.read_csv(BytesIO(r.content))\n",
    "districts"
   ]
  },
  {
   "cell_type": "code",
   "execution_count": 33,
   "metadata": {},
   "outputs": [
    {
     "name": "stdout",
     "output_type": "stream",
     "text": [
      "<class 'pandas.core.frame.DataFrame'>\n",
      "RangeIndex: 5282 entries, 0 to 5281\n",
      "Data columns (total 9 columns):\n",
      "UM_CODE      5282 non-null object\n",
      "UM_NAMEF     5282 non-null object\n",
      "global_id    5282 non-null object\n",
      "UM_NAMES     5282 non-null object\n",
      "UM_TRANS     5282 non-null object\n",
      "UM_TYPE      5282 non-null object\n",
      "UM_TM        1322 non-null object\n",
      "UM_TE        5282 non-null object\n",
      "UM_KLADR     5091 non-null object\n",
      "dtypes: object(9)\n",
      "memory usage: 371.5+ KB\n"
     ]
    }
   ],
   "source": [
    "streets.info()"
   ]
  },
  {
   "cell_type": "code",
   "execution_count": 34,
   "metadata": {},
   "outputs": [
    {
     "name": "stdout",
     "output_type": "stream",
     "text": [
      "<class 'pandas.core.frame.DataFrame'>\n",
      "RangeIndex: 158 entries, 0 to 157\n",
      "Data columns (total 6 columns):\n",
      "Kod           158 non-null int64\n",
      "Name          158 non-null object\n",
      "global_id     158 non-null int64\n",
      "Latin_name    158 non-null object\n",
      "Type          158 non-null int64\n",
      "Kod_okato     158 non-null int64\n",
      "dtypes: int64(4), object(2)\n",
      "memory usage: 7.5+ KB\n"
     ]
    }
   ],
   "source": [
    "districts.info()"
   ]
  },
  {
   "cell_type": "code",
   "execution_count": 35,
   "metadata": {},
   "outputs": [],
   "source": [
    "streets = streets[['UM_NAMEF', 'UM_TE']]\n",
    "districts = districts[['Kod', 'Name']]"
   ]
  },
  {
   "cell_type": "code",
   "execution_count": 36,
   "metadata": {},
   "outputs": [],
   "source": [
    "streets.columns = ['street', 'code']\n",
    "districts.columns = ['code', 'district']"
   ]
  },
  {
   "cell_type": "code",
   "execution_count": 37,
   "metadata": {},
   "outputs": [
    {
     "data": {
      "text/html": [
       "<div>\n",
       "<style scoped>\n",
       "    .dataframe tbody tr th:only-of-type {\n",
       "        vertical-align: middle;\n",
       "    }\n",
       "\n",
       "    .dataframe tbody tr th {\n",
       "        vertical-align: top;\n",
       "    }\n",
       "\n",
       "    .dataframe thead th {\n",
       "        text-align: right;\n",
       "    }\n",
       "</style>\n",
       "<table border=\"1\" class=\"dataframe\">\n",
       "  <thead>\n",
       "    <tr style=\"text-align: right;\">\n",
       "      <th></th>\n",
       "      <th>street</th>\n",
       "      <th>code</th>\n",
       "    </tr>\n",
       "  </thead>\n",
       "  <tbody>\n",
       "    <tr>\n",
       "      <td>0</td>\n",
       "      <td>1-й Ирининский переулок</td>\n",
       "      <td>0102</td>\n",
       "    </tr>\n",
       "    <tr>\n",
       "      <td>1</td>\n",
       "      <td>2-й Ирининский переулок</td>\n",
       "      <td>0102</td>\n",
       "    </tr>\n",
       "    <tr>\n",
       "      <td>2</td>\n",
       "      <td>3-й Ирининский переулок</td>\n",
       "      <td>0102</td>\n",
       "    </tr>\n",
       "    <tr>\n",
       "      <td>3</td>\n",
       "      <td>Иркутская улица</td>\n",
       "      <td>0406</td>\n",
       "    </tr>\n",
       "    <tr>\n",
       "      <td>4</td>\n",
       "      <td>1-й Иртышский проезд</td>\n",
       "      <td>0406</td>\n",
       "    </tr>\n",
       "    <tr>\n",
       "      <td>...</td>\n",
       "      <td>...</td>\n",
       "      <td>...</td>\n",
       "    </tr>\n",
       "    <tr>\n",
       "      <td>5277</td>\n",
       "      <td>5-й Самоцветный переулок</td>\n",
       "      <td>1209</td>\n",
       "    </tr>\n",
       "    <tr>\n",
       "      <td>5278</td>\n",
       "      <td>6-й Самоцветный переулок</td>\n",
       "      <td>1209</td>\n",
       "    </tr>\n",
       "    <tr>\n",
       "      <td>5279</td>\n",
       "      <td>7-й Самоцветный переулок</td>\n",
       "      <td>1209</td>\n",
       "    </tr>\n",
       "    <tr>\n",
       "      <td>5280</td>\n",
       "      <td>8-й Самоцветный переулок</td>\n",
       "      <td>1209</td>\n",
       "    </tr>\n",
       "    <tr>\n",
       "      <td>5281</td>\n",
       "      <td>улица Карасёва</td>\n",
       "      <td>1109</td>\n",
       "    </tr>\n",
       "  </tbody>\n",
       "</table>\n",
       "<p>5282 rows × 2 columns</p>\n",
       "</div>"
      ],
      "text/plain": [
       "                        street  code\n",
       "0      1-й Ирининский переулок  0102\n",
       "1      2-й Ирининский переулок  0102\n",
       "2      3-й Ирининский переулок  0102\n",
       "3              Иркутская улица  0406\n",
       "4         1-й Иртышский проезд  0406\n",
       "...                        ...   ...\n",
       "5277  5-й Самоцветный переулок  1209\n",
       "5278  6-й Самоцветный переулок  1209\n",
       "5279  7-й Самоцветный переулок  1209\n",
       "5280  8-й Самоцветный переулок  1209\n",
       "5281            улица Карасёва  1109\n",
       "\n",
       "[5282 rows x 2 columns]"
      ]
     },
     "execution_count": 37,
     "metadata": {},
     "output_type": "execute_result"
    }
   ],
   "source": [
    "streets"
   ]
  },
  {
   "cell_type": "code",
   "execution_count": 38,
   "metadata": {},
   "outputs": [
    {
     "data": {
      "text/html": [
       "<div>\n",
       "<style scoped>\n",
       "    .dataframe tbody tr th:only-of-type {\n",
       "        vertical-align: middle;\n",
       "    }\n",
       "\n",
       "    .dataframe tbody tr th {\n",
       "        vertical-align: top;\n",
       "    }\n",
       "\n",
       "    .dataframe thead th {\n",
       "        text-align: right;\n",
       "    }\n",
       "</style>\n",
       "<table border=\"1\" class=\"dataframe\">\n",
       "  <thead>\n",
       "    <tr style=\"text-align: right;\">\n",
       "      <th></th>\n",
       "      <th>code</th>\n",
       "      <th>district</th>\n",
       "    </tr>\n",
       "  </thead>\n",
       "  <tbody>\n",
       "    <tr>\n",
       "      <td>0</td>\n",
       "      <td>100</td>\n",
       "      <td>Центральный административный округ</td>\n",
       "    </tr>\n",
       "    <tr>\n",
       "      <td>1</td>\n",
       "      <td>101</td>\n",
       "      <td>район Арбат</td>\n",
       "    </tr>\n",
       "    <tr>\n",
       "      <td>2</td>\n",
       "      <td>102</td>\n",
       "      <td>Басманный район</td>\n",
       "    </tr>\n",
       "    <tr>\n",
       "      <td>3</td>\n",
       "      <td>103</td>\n",
       "      <td>район Замоскворечье</td>\n",
       "    </tr>\n",
       "    <tr>\n",
       "      <td>4</td>\n",
       "      <td>104</td>\n",
       "      <td>Красносельский район</td>\n",
       "    </tr>\n",
       "    <tr>\n",
       "      <td>...</td>\n",
       "      <td>...</td>\n",
       "      <td>...</td>\n",
       "    </tr>\n",
       "    <tr>\n",
       "      <td>153</td>\n",
       "      <td>1206</td>\n",
       "      <td>поселение Новофедоровское</td>\n",
       "    </tr>\n",
       "    <tr>\n",
       "      <td>154</td>\n",
       "      <td>1207</td>\n",
       "      <td>поселение Первомайское</td>\n",
       "    </tr>\n",
       "    <tr>\n",
       "      <td>155</td>\n",
       "      <td>1208</td>\n",
       "      <td>поселение Роговское</td>\n",
       "    </tr>\n",
       "    <tr>\n",
       "      <td>156</td>\n",
       "      <td>1209</td>\n",
       "      <td>поселение Троицк</td>\n",
       "    </tr>\n",
       "    <tr>\n",
       "      <td>157</td>\n",
       "      <td>1210</td>\n",
       "      <td>поселение Щаповское</td>\n",
       "    </tr>\n",
       "  </tbody>\n",
       "</table>\n",
       "<p>158 rows × 2 columns</p>\n",
       "</div>"
      ],
      "text/plain": [
       "     code                            district\n",
       "0     100  Центральный административный округ\n",
       "1     101                         район Арбат\n",
       "2     102                     Басманный район\n",
       "3     103                 район Замоскворечье\n",
       "4     104                Красносельский район\n",
       "..    ...                                 ...\n",
       "153  1206           поселение Новофедоровское\n",
       "154  1207              поселение Первомайское\n",
       "155  1208                 поселение Роговское\n",
       "156  1209                    поселение Троицк\n",
       "157  1210                 поселение Щаповское\n",
       "\n",
       "[158 rows x 2 columns]"
      ]
     },
     "execution_count": 38,
     "metadata": {},
     "output_type": "execute_result"
    }
   ],
   "source": [
    "districts"
   ]
  },
  {
   "cell_type": "markdown",
   "metadata": {},
   "source": [
    "После \"упрощения\" таблиц, получили две таблицы. В первой - название улицы и код территориальной единицы, во второй - код территориальной единицы и название округа. Но коды в первой и второй таблице различаются по типу данных, и это те типы, которые были на сайте правительства Москвы."
   ]
  },
  {
   "cell_type": "markdown",
   "metadata": {},
   "source": [
    "Попробуем привести код в таблице с улицами к int. Посмотрим, из чего состоит этот столбец."
   ]
  },
  {
   "cell_type": "code",
   "execution_count": 39,
   "metadata": {
    "scrolled": true
   },
   "outputs": [
    {
     "data": {
      "text/plain": [
       "array(['0102', '0406', '0905', '0303', '0108', '0807', '0507', '0404',\n",
       "       '0618', '0103;0110', '0110', '0312', '0711', '0513', '0101',\n",
       "       '0104', '0101;0106', '0310', '0107', '0107;0510', '0610', '0105',\n",
       "       '0306', '0409', '0612;0618;0615', '0704', '0702', '0505', '0106',\n",
       "       '0712', '0906', '0510', '0311', '0208', '0701', '0813', '0816',\n",
       "       '0301', '0606', '0612;0618', '0818;0819', '0703;0710', '0308',\n",
       "       '0612;0613', '0612;0613;0616;0617', '0213', '0704;0707', '0206',\n",
       "       '0703', '0805', '0214', '0508', '0102;0104', '0619;0620;0621',\n",
       "       '0621;0620', '0621', '0417', '0107;0108', '0614', '0103', '0216',\n",
       "       '0819', '0608', '0820', '0415', '0416', '0103;0609', '0609',\n",
       "       '0818', '0515;0609', '0515', '0809', '0201', '0708', '0612',\n",
       "       '0418', '0613', '0212', '0104;0105', '1012', '1011', '0303;0313',\n",
       "       '0303;0307', '0105;0108', '0109', '0207', '0907', '0304',\n",
       "       '0110;0610', '0210', '0411;0413', '0203', '0203;0208;0209',\n",
       "       '0308;0310;0215;0305', '0205;0210', '0302;0304', '0215',\n",
       "       '0702;0815', '0814;0817', '0706;0814', '0317', '0403;0415',\n",
       "       '0506;0508;0514', '0209', '0620', '0107;0515', '0701;0705', '0615',\n",
       "       '0706', '1005', '0107;0609', '0806;0807;0818;0905', '0806', '0403',\n",
       "       '0504;0506', '0407', '0901', '0511', '0413', '0611', '0805;0819',\n",
       "       '0214;0217', '0207;0211;0216', '0309', '0811', '0313', '0815',\n",
       "       '0211;0216', '0201;0202;0214;0217',\n",
       "       '0205;0207;0211;0212;0214;1009;1010',\n",
       "       '0110;0610;0702;0706;0707;0709;0814;0817', '0504', '1010', '0616',\n",
       "       '0903', '0512', '0606;0618', '0814;0815;0820', '0104;0418', '0908',\n",
       "       '0403;0410', '0509', '0101;0109', '0508;0509;0514', '0307', '0217',\n",
       "       '0106;0217', '0205', '0514', '0509;0508', '0201;0213',\n",
       "       '0201;0202;0213', '0707', '0511;0515', '0212;0901', '0415;0417',\n",
       "       '0607', '0407;0411;0413', '0305', '0805;0815;0818;0819',\n",
       "       '0105;0301;0309;0310;0312;0313;0317', '0902', '0207;0210', '0315',\n",
       "       '0814;0815;0817;0820', '0314;0316', '0406;0410', '0408',\n",
       "       '0101;0108', '0103;0110;0609', '0613;0614', '0705', '0707;0710',\n",
       "       '0407;0411', '0205;0207;0210', '0906;0907', '0608;0612', '0710',\n",
       "       '0615;0701;0703;0705;0706;0710', '0106;0108', '0508;0509', '0202',\n",
       "       '0408;0416', '0205;0903', '0412', '0817;0820', '0817', '0108;0213',\n",
       "       '0108;0309', '0411', '0606;0616;0618', '0701;0710', 'UM_TE',\n",
       "       '0704;0707;0710', '0102;0107', '0305;0309', '1010;1012',\n",
       "       '0506;0513;0514', '0310;0311', '0207;0216', '0611;0616;0617',\n",
       "       '0510;0514', '0303;0307;0314', '0704;0707;0709', '0403;0410;0415',\n",
       "       '1005;1009;1011;1012', '0702;0706', '0405;0408;0416', '0405',\n",
       "       '0405;0416', '0405;0408', '0507;0510', '0413;0510', '0310;0312',\n",
       "       '0706;0707', '0904', '1009;1011', '0506;0513', '0202;0217',\n",
       "       '0708;0711', '0314', '0302;0311', '0903;0908', '0211', '0106;0906',\n",
       "       '0206;0208', '0701;0704;0707;0709;0710;0712', '0302;0306',\n",
       "       '0901;0902', '0904;0908', '0814;0815', '0105;0309', '0816;1106',\n",
       "       '0609;0610', '0806;0807;0818;0819', '0809;0820', '0504;0510;0513',\n",
       "       '0409;0412', '0513;0514', '0903;0904;0908',\n",
       "       '0610;0703;0704;0705;0710;0712', '0310;0311;0312;0313',\n",
       "       '0312;0313', '0102;0108', '0203;0311', '0107;0515;0609',\n",
       "       '0615;0703', '0504;0506;0513', '0506', '0408;0417', '0302',\n",
       "       '0819;0820', '0816;0811', '0619', '0105;0108;0309', '0617', '0709',\n",
       "       '0407;0413', '0908;0902', '0203;0209', '0701;0702;0705',\n",
       "       '0413;0417', '0807;0819', '0101;0108;0109', '0105;0104',\n",
       "       '0110;0609;0610', '0414', '0410', '1009;1010',\n",
       "       '0612;0616;0617;0606', '0611;0616', '0504;0508', '0406;0408;0416',\n",
       "       '0407;0408;0413;0417;0507', '1009', '0506;0514', '0316',\n",
       "       '0701;0702', '1101', '1201', '1102', '1103', '1202', '1203',\n",
       "       '1104', '1204', '1204;1209', '1105', '1205', '1106', '1107',\n",
       "       '1206', '1207', '1208', '1108', '1109', '1110', '1210', '1111',\n",
       "       '1111; 1102; 1108', '1209', '1109;1107;1106', '0109;0110',\n",
       "       '0109;0805', '0101;0106;0805', '1005;1011;1012', '0418;0415',\n",
       "       '0404;0412', '0404;0409;0412', '0404;0409', '0708;0712',\n",
       "       '0816;0817', '0816;0820', '0902;0903;0908', '0902;0908',\n",
       "       '0901;0904', '0208;0306', '0306;0315', '0307;0317', '0317;0410',\n",
       "       '0621;0712', '0109;0702', '0905;0907', '0905;0806',\n",
       "       '0819;0809;0820', '0106;0805', '0815;0109', '0608;0505',\n",
       "       '0418;0403', '0616;0612', '0815;0109;0101', '0418;0403;0415',\n",
       "       '0507;0102', '0820;0819', '0108;0109;0110', '0107;0103',\n",
       "       '0906;0806;0818', '0102;0507', '0805;0815;0109', '0109;0815;0702',\n",
       "       '0316;0303', '0316;0313;0303', '0108;0110', '0613;0609;0614',\n",
       "       '0107;0103;0609', '0301;0312', '0211;0904', '0110;0103',\n",
       "       '0818;0106', '0415;0418;0417', '0205;0210;0215',\n",
       "       '0302;0304;0306;0311', '0809;0819;0820', '0208;0209',\n",
       "       '0515;0609;0613;0614', '0303;0307;0313', '0615;0619;0703',\n",
       "       '0201;0214', '0805;0818', '0201;0202', '0616;0617', '0608;0611',\n",
       "       '0203;0206;0208', '0403;0418', '0615;0703;0710', '0108;0109',\n",
       "       '0811;0813;0816;1101;1105', '0308;0310', '0213;0215;0305',\n",
       "       '0610;0701;0702;0706', '0215;0305',\n",
       "       '0610;0613;0615;0619;0620;0621;0708;0711;1111',\n",
       "       '0702;0706;0814;0815;0817', '0505;0508;0509', '0706;0707;0710',\n",
       "       '0606;0616', '0107;0504;0506;0510;0511;0514;0515',\n",
       "       '0214;0902;0903;0907', '0107;0507', '0504;0513', '0610;0702',\n",
       "       '0415;0403', '1005;1012', '0101;0106;0108', '0205;0207',\n",
       "       '0203;0206', '0310;0311;0313',\n",
       "       '0203;0206;0208;0209;0215;0306;0315', '0619;0620', '0616;0618',\n",
       "       '0607;0620;0621', '0611;0617', '0506;0508', '0417;0415',\n",
       "       '0711;1111', '0814', '0509;0511', '0815;0820'], dtype=object)"
      ]
     },
     "execution_count": 39,
     "metadata": {},
     "output_type": "execute_result"
    }
   ],
   "source": [
    "streets['code'].unique()"
   ]
  },
  {
   "cell_type": "markdown",
   "metadata": {},
   "source": [
    "Есть странное значение UM_TE и некоторые коды разделены \";\". Видимо из-за того, что некоторые улицы находятся в разных округах."
   ]
  },
  {
   "cell_type": "code",
   "execution_count": 40,
   "metadata": {},
   "outputs": [
    {
     "data": {
      "text/html": [
       "<div>\n",
       "<style scoped>\n",
       "    .dataframe tbody tr th:only-of-type {\n",
       "        vertical-align: middle;\n",
       "    }\n",
       "\n",
       "    .dataframe tbody tr th {\n",
       "        vertical-align: top;\n",
       "    }\n",
       "\n",
       "    .dataframe thead th {\n",
       "        text-align: right;\n",
       "    }\n",
       "</style>\n",
       "<table border=\"1\" class=\"dataframe\">\n",
       "  <thead>\n",
       "    <tr style=\"text-align: right;\">\n",
       "      <th></th>\n",
       "      <th>street</th>\n",
       "      <th>code</th>\n",
       "    </tr>\n",
       "  </thead>\n",
       "  <tbody>\n",
       "    <tr>\n",
       "      <td>1000</td>\n",
       "      <td>UM_NAMEF</td>\n",
       "      <td>UM_TE</td>\n",
       "    </tr>\n",
       "    <tr>\n",
       "      <td>2001</td>\n",
       "      <td>UM_NAMEF</td>\n",
       "      <td>UM_TE</td>\n",
       "    </tr>\n",
       "    <tr>\n",
       "      <td>3002</td>\n",
       "      <td>UM_NAMEF</td>\n",
       "      <td>UM_TE</td>\n",
       "    </tr>\n",
       "    <tr>\n",
       "      <td>4003</td>\n",
       "      <td>UM_NAMEF</td>\n",
       "      <td>UM_TE</td>\n",
       "    </tr>\n",
       "    <tr>\n",
       "      <td>5004</td>\n",
       "      <td>UM_NAMEF</td>\n",
       "      <td>UM_TE</td>\n",
       "    </tr>\n",
       "  </tbody>\n",
       "</table>\n",
       "</div>"
      ],
      "text/plain": [
       "        street   code\n",
       "1000  UM_NAMEF  UM_TE\n",
       "2001  UM_NAMEF  UM_TE\n",
       "3002  UM_NAMEF  UM_TE\n",
       "4003  UM_NAMEF  UM_TE\n",
       "5004  UM_NAMEF  UM_TE"
      ]
     },
     "execution_count": 40,
     "metadata": {},
     "output_type": "execute_result"
    }
   ],
   "source": [
    "streets[streets['code'] == 'UM_TE']"
   ]
  },
  {
   "cell_type": "markdown",
   "metadata": {},
   "source": [
    "Видимо какие-то пропущенные данные, поэтому их можно убрать."
   ]
  },
  {
   "cell_type": "code",
   "execution_count": 41,
   "metadata": {},
   "outputs": [],
   "source": [
    "streets = streets.loc[streets['code'] != 'UM_TE']"
   ]
  },
  {
   "cell_type": "markdown",
   "metadata": {},
   "source": [
    "И вот в этот самый момент, когда я думал, как убрать эти точки с запятой, я нашел другой  датасет с сайта мосгаза, где эту работу уже сделали за меня, поэтому дальнейшее исследование будем проводить с помощью нового датасета."
   ]
  },
  {
   "cell_type": "code",
   "execution_count": 42,
   "metadata": {},
   "outputs": [],
   "source": [
    "street = pd.read_csv('https://hubofdata.ru/storage/f/2013-10-22T09%3A25%3A27.793Z/mosgaz-streets.csv')"
   ]
  },
  {
   "cell_type": "code",
   "execution_count": 43,
   "metadata": {},
   "outputs": [
    {
     "data": {
      "text/html": [
       "<div>\n",
       "<style scoped>\n",
       "    .dataframe tbody tr th:only-of-type {\n",
       "        vertical-align: middle;\n",
       "    }\n",
       "\n",
       "    .dataframe tbody tr th {\n",
       "        vertical-align: top;\n",
       "    }\n",
       "\n",
       "    .dataframe thead th {\n",
       "        text-align: right;\n",
       "    }\n",
       "</style>\n",
       "<table border=\"1\" class=\"dataframe\">\n",
       "  <thead>\n",
       "    <tr style=\"text-align: right;\">\n",
       "      <th></th>\n",
       "      <th>streetname</th>\n",
       "      <th>areaid</th>\n",
       "      <th>okrug</th>\n",
       "      <th>area</th>\n",
       "    </tr>\n",
       "  </thead>\n",
       "  <tbody>\n",
       "    <tr>\n",
       "      <td>0</td>\n",
       "      <td>Выставочный переулок</td>\n",
       "      <td>17</td>\n",
       "      <td>ЦАО</td>\n",
       "      <td>Пресненский район</td>\n",
       "    </tr>\n",
       "    <tr>\n",
       "      <td>1</td>\n",
       "      <td>улица Гашека</td>\n",
       "      <td>17</td>\n",
       "      <td>ЦАО</td>\n",
       "      <td>Пресненский район</td>\n",
       "    </tr>\n",
       "    <tr>\n",
       "      <td>2</td>\n",
       "      <td>Большая Никитская улица</td>\n",
       "      <td>17</td>\n",
       "      <td>ЦАО</td>\n",
       "      <td>Пресненский район</td>\n",
       "    </tr>\n",
       "    <tr>\n",
       "      <td>3</td>\n",
       "      <td>Глубокий переулок</td>\n",
       "      <td>17</td>\n",
       "      <td>ЦАО</td>\n",
       "      <td>Пресненский район</td>\n",
       "    </tr>\n",
       "    <tr>\n",
       "      <td>4</td>\n",
       "      <td>Большой Гнездниковский переулок</td>\n",
       "      <td>17</td>\n",
       "      <td>ЦАО</td>\n",
       "      <td>Пресненский район</td>\n",
       "    </tr>\n",
       "  </tbody>\n",
       "</table>\n",
       "</div>"
      ],
      "text/plain": [
       "                        streetname  areaid okrug               area\n",
       "0             Выставочный переулок      17   ЦАО  Пресненский район\n",
       "1                     улица Гашека      17   ЦАО  Пресненский район\n",
       "2          Большая Никитская улица      17   ЦАО  Пресненский район\n",
       "3                Глубокий переулок      17   ЦАО  Пресненский район\n",
       "4  Большой Гнездниковский переулок      17   ЦАО  Пресненский район"
      ]
     },
     "execution_count": 43,
     "metadata": {},
     "output_type": "execute_result"
    }
   ],
   "source": [
    "street.head()"
   ]
  },
  {
   "cell_type": "markdown",
   "metadata": {},
   "source": [
    "Здесь есть не только районы, но и округа! Переименуем названия столбцов для дальнейшего удобства."
   ]
  },
  {
   "cell_type": "code",
   "execution_count": 44,
   "metadata": {},
   "outputs": [],
   "source": [
    "street.columns = ['street', 'area_id', 'okrug', 'district']"
   ]
  },
  {
   "cell_type": "code",
   "execution_count": 45,
   "metadata": {},
   "outputs": [],
   "source": [
    "res = data.merge(street, on = 'street')"
   ]
  },
  {
   "cell_type": "code",
   "execution_count": 46,
   "metadata": {},
   "outputs": [],
   "source": [
    "res = res.loc[res['street'] != 'город Зеленоград']\n",
    "res = res.loc[res['street'] != 'поселение Сосенское']"
   ]
  },
  {
   "cell_type": "code",
   "execution_count": 47,
   "metadata": {},
   "outputs": [
    {
     "data": {
      "text/plain": [
       "78"
      ]
     },
     "execution_count": 47,
     "metadata": {},
     "output_type": "execute_result"
    }
   ],
   "source": [
    "res.duplicated().sum()"
   ]
  },
  {
   "cell_type": "code",
   "execution_count": 48,
   "metadata": {},
   "outputs": [],
   "source": [
    "res = res.drop_duplicates()"
   ]
  },
  {
   "cell_type": "markdown",
   "metadata": {},
   "source": [
    "Присоединим таблицу к нашему датасету и уберем Зеленоград и Сосенское. Удалим дубликаты."
   ]
  },
  {
   "cell_type": "code",
   "execution_count": 49,
   "metadata": {},
   "outputs": [],
   "source": [
    "res_number = res.pivot_table(index=['street','district', 'okrug'], values='number', aggfunc='count')\\\n",
    ".sort_values(by='number', ascending=False).reset_index()"
   ]
  },
  {
   "cell_type": "markdown",
   "metadata": {},
   "source": [
    "Собрали таблицу из названия улицы, района и округа и количества заведений."
   ]
  },
  {
   "cell_type": "code",
   "execution_count": 50,
   "metadata": {},
   "outputs": [
    {
     "data": {
      "text/plain": [
       "проспект Мира             197\n",
       "Профсоюзная улица         180\n",
       "Ленинградский проспект    170\n",
       "Пресненская набережная    165\n",
       "Варшавское шоссе          160\n",
       "Ленинский проспект        147\n",
       "проспект Вернадского      127\n",
       "Кутузовский проспект      114\n",
       "Каширское шоссе           110\n",
       "Кировоградская улица      107\n",
       "Name: street, dtype: int64"
      ]
     },
     "execution_count": 50,
     "metadata": {},
     "output_type": "execute_result"
    }
   ],
   "source": [
    "data_new['street'].value_counts().sort_values(ascending = False).head(10)"
   ]
  },
  {
   "cell_type": "markdown",
   "metadata": {},
   "source": [
    "Вспомним наш топ-10 улиц и сделаем срез."
   ]
  },
  {
   "cell_type": "code",
   "execution_count": 51,
   "metadata": {
    "scrolled": true
   },
   "outputs": [
    {
     "data": {
      "text/html": [
       "<div>\n",
       "<style scoped>\n",
       "    .dataframe tbody tr th:only-of-type {\n",
       "        vertical-align: middle;\n",
       "    }\n",
       "\n",
       "    .dataframe tbody tr th {\n",
       "        vertical-align: top;\n",
       "    }\n",
       "\n",
       "    .dataframe thead th {\n",
       "        text-align: right;\n",
       "    }\n",
       "</style>\n",
       "<table border=\"1\" class=\"dataframe\">\n",
       "  <thead>\n",
       "    <tr style=\"text-align: right;\">\n",
       "      <th></th>\n",
       "      <th>street</th>\n",
       "      <th>district</th>\n",
       "      <th>okrug</th>\n",
       "      <th>number</th>\n",
       "    </tr>\n",
       "  </thead>\n",
       "  <tbody>\n",
       "    <tr>\n",
       "      <td>0</td>\n",
       "      <td>проспект Мира</td>\n",
       "      <td>Мещанский район</td>\n",
       "      <td>ЦАО</td>\n",
       "      <td>197</td>\n",
       "    </tr>\n",
       "    <tr>\n",
       "      <td>1</td>\n",
       "      <td>проспект Мира</td>\n",
       "      <td>Останкинский район</td>\n",
       "      <td>СВАО</td>\n",
       "      <td>197</td>\n",
       "    </tr>\n",
       "    <tr>\n",
       "      <td>2</td>\n",
       "      <td>проспект Мира</td>\n",
       "      <td>Район Марьина роща</td>\n",
       "      <td>СВАО</td>\n",
       "      <td>197</td>\n",
       "    </tr>\n",
       "    <tr>\n",
       "      <td>3</td>\n",
       "      <td>проспект Мира</td>\n",
       "      <td>Ярославский Район</td>\n",
       "      <td>СВАО</td>\n",
       "      <td>197</td>\n",
       "    </tr>\n",
       "    <tr>\n",
       "      <td>4</td>\n",
       "      <td>проспект Мира</td>\n",
       "      <td>Район Ростокино</td>\n",
       "      <td>СВАО</td>\n",
       "      <td>197</td>\n",
       "    </tr>\n",
       "    <tr>\n",
       "      <td>5</td>\n",
       "      <td>проспект Мира</td>\n",
       "      <td>Район Свиблово</td>\n",
       "      <td>СВАО</td>\n",
       "      <td>197</td>\n",
       "    </tr>\n",
       "    <tr>\n",
       "      <td>6</td>\n",
       "      <td>проспект Мира</td>\n",
       "      <td>Алексеевский район</td>\n",
       "      <td>СВАО</td>\n",
       "      <td>197</td>\n",
       "    </tr>\n",
       "    <tr>\n",
       "      <td>7</td>\n",
       "      <td>Профсоюзная улица</td>\n",
       "      <td>Район Черемушки</td>\n",
       "      <td>ЮЗАО</td>\n",
       "      <td>180</td>\n",
       "    </tr>\n",
       "    <tr>\n",
       "      <td>8</td>\n",
       "      <td>Профсоюзная улица</td>\n",
       "      <td>Район Ясенево</td>\n",
       "      <td>ЮЗАО</td>\n",
       "      <td>180</td>\n",
       "    </tr>\n",
       "    <tr>\n",
       "      <td>9</td>\n",
       "      <td>Профсоюзная улица</td>\n",
       "      <td>Район Теплый Стан</td>\n",
       "      <td>ЮЗАО</td>\n",
       "      <td>180</td>\n",
       "    </tr>\n",
       "    <tr>\n",
       "      <td>10</td>\n",
       "      <td>Профсоюзная улица</td>\n",
       "      <td>Район Коньково</td>\n",
       "      <td>ЮЗАО</td>\n",
       "      <td>180</td>\n",
       "    </tr>\n",
       "    <tr>\n",
       "      <td>11</td>\n",
       "      <td>Профсоюзная улица</td>\n",
       "      <td>Обручевский район</td>\n",
       "      <td>ЮЗАО</td>\n",
       "      <td>180</td>\n",
       "    </tr>\n",
       "    <tr>\n",
       "      <td>12</td>\n",
       "      <td>Профсоюзная улица</td>\n",
       "      <td>Академический район</td>\n",
       "      <td>ЮЗАО</td>\n",
       "      <td>180</td>\n",
       "    </tr>\n",
       "    <tr>\n",
       "      <td>13</td>\n",
       "      <td>Ленинградский проспект</td>\n",
       "      <td>Хорошевский район</td>\n",
       "      <td>САО</td>\n",
       "      <td>170</td>\n",
       "    </tr>\n",
       "    <tr>\n",
       "      <td>14</td>\n",
       "      <td>Ленинградский проспект</td>\n",
       "      <td>Район Сокол</td>\n",
       "      <td>САО</td>\n",
       "      <td>170</td>\n",
       "    </tr>\n",
       "    <tr>\n",
       "      <td>15</td>\n",
       "      <td>Ленинградский проспект</td>\n",
       "      <td>Район Беговой</td>\n",
       "      <td>САО</td>\n",
       "      <td>170</td>\n",
       "    </tr>\n",
       "    <tr>\n",
       "      <td>16</td>\n",
       "      <td>Ленинградский проспект</td>\n",
       "      <td>Район Аэропорт</td>\n",
       "      <td>САО</td>\n",
       "      <td>170</td>\n",
       "    </tr>\n",
       "    <tr>\n",
       "      <td>17</td>\n",
       "      <td>Пресненская набережная</td>\n",
       "      <td>Пресненский район</td>\n",
       "      <td>ЦАО</td>\n",
       "      <td>165</td>\n",
       "    </tr>\n",
       "    <tr>\n",
       "      <td>18</td>\n",
       "      <td>Варшавское шоссе</td>\n",
       "      <td>Район Нагатино-Садовники</td>\n",
       "      <td>ЮАО</td>\n",
       "      <td>160</td>\n",
       "    </tr>\n",
       "    <tr>\n",
       "      <td>19</td>\n",
       "      <td>Варшавское шоссе</td>\n",
       "      <td>Район Чертаново Центральное</td>\n",
       "      <td>ЮАО</td>\n",
       "      <td>160</td>\n",
       "    </tr>\n",
       "    <tr>\n",
       "      <td>20</td>\n",
       "      <td>Варшавское шоссе</td>\n",
       "      <td>Район Чертаново Северное</td>\n",
       "      <td>ЮАО</td>\n",
       "      <td>160</td>\n",
       "    </tr>\n",
       "    <tr>\n",
       "      <td>21</td>\n",
       "      <td>Варшавское шоссе</td>\n",
       "      <td>Район Чертаново Южное</td>\n",
       "      <td>ЮАО</td>\n",
       "      <td>160</td>\n",
       "    </tr>\n",
       "    <tr>\n",
       "      <td>22</td>\n",
       "      <td>Варшавское шоссе</td>\n",
       "      <td>Район Северное Бутово</td>\n",
       "      <td>ЮЗАО</td>\n",
       "      <td>160</td>\n",
       "    </tr>\n",
       "    <tr>\n",
       "      <td>23</td>\n",
       "      <td>Варшавское шоссе</td>\n",
       "      <td>Район Южное Бутово</td>\n",
       "      <td>ЮЗАО</td>\n",
       "      <td>160</td>\n",
       "    </tr>\n",
       "    <tr>\n",
       "      <td>24</td>\n",
       "      <td>Варшавское шоссе</td>\n",
       "      <td>Нагорный район</td>\n",
       "      <td>ЮАО</td>\n",
       "      <td>160</td>\n",
       "    </tr>\n",
       "    <tr>\n",
       "      <td>25</td>\n",
       "      <td>Варшавское шоссе</td>\n",
       "      <td>Донской район</td>\n",
       "      <td>ЮАО</td>\n",
       "      <td>160</td>\n",
       "    </tr>\n",
       "    <tr>\n",
       "      <td>26</td>\n",
       "      <td>Ленинский проспект</td>\n",
       "      <td>Донской район</td>\n",
       "      <td>ЮАО</td>\n",
       "      <td>147</td>\n",
       "    </tr>\n",
       "    <tr>\n",
       "      <td>27</td>\n",
       "      <td>Ленинский проспект</td>\n",
       "      <td>Ломоносовский район</td>\n",
       "      <td>ЮЗАО</td>\n",
       "      <td>147</td>\n",
       "    </tr>\n",
       "    <tr>\n",
       "      <td>28</td>\n",
       "      <td>Ленинский проспект</td>\n",
       "      <td>Обручевский район</td>\n",
       "      <td>ЮЗАО</td>\n",
       "      <td>147</td>\n",
       "    </tr>\n",
       "    <tr>\n",
       "      <td>29</td>\n",
       "      <td>Ленинский проспект</td>\n",
       "      <td>Район Проспект Вернадского</td>\n",
       "      <td>ЗАО</td>\n",
       "      <td>147</td>\n",
       "    </tr>\n",
       "    <tr>\n",
       "      <td>30</td>\n",
       "      <td>Ленинский проспект</td>\n",
       "      <td>Район Теплый Стан</td>\n",
       "      <td>ЮЗАО</td>\n",
       "      <td>147</td>\n",
       "    </tr>\n",
       "    <tr>\n",
       "      <td>31</td>\n",
       "      <td>Ленинский проспект</td>\n",
       "      <td>Район Тропарево-Никулино</td>\n",
       "      <td>ЗАО</td>\n",
       "      <td>147</td>\n",
       "    </tr>\n",
       "    <tr>\n",
       "      <td>32</td>\n",
       "      <td>Ленинский проспект</td>\n",
       "      <td>Район Якиманка</td>\n",
       "      <td>ЦАО</td>\n",
       "      <td>147</td>\n",
       "    </tr>\n",
       "    <tr>\n",
       "      <td>33</td>\n",
       "      <td>Ленинский проспект</td>\n",
       "      <td>Район Гагаринский</td>\n",
       "      <td>ЮЗАО</td>\n",
       "      <td>147</td>\n",
       "    </tr>\n",
       "    <tr>\n",
       "      <td>34</td>\n",
       "      <td>проспект Вернадского</td>\n",
       "      <td>Ломоносовский район</td>\n",
       "      <td>ЮЗАО</td>\n",
       "      <td>127</td>\n",
       "    </tr>\n",
       "    <tr>\n",
       "      <td>35</td>\n",
       "      <td>проспект Вернадского</td>\n",
       "      <td>Район Тропарево-Никулино</td>\n",
       "      <td>ЗАО</td>\n",
       "      <td>127</td>\n",
       "    </tr>\n",
       "    <tr>\n",
       "      <td>36</td>\n",
       "      <td>проспект Вернадского</td>\n",
       "      <td>Район Раменки</td>\n",
       "      <td>ЗАО</td>\n",
       "      <td>127</td>\n",
       "    </tr>\n",
       "    <tr>\n",
       "      <td>37</td>\n",
       "      <td>проспект Вернадского</td>\n",
       "      <td>Район Гагаринский</td>\n",
       "      <td>ЮЗАО</td>\n",
       "      <td>127</td>\n",
       "    </tr>\n",
       "    <tr>\n",
       "      <td>38</td>\n",
       "      <td>проспект Вернадского</td>\n",
       "      <td>Район Проспект Вернадского</td>\n",
       "      <td>ЗАО</td>\n",
       "      <td>127</td>\n",
       "    </tr>\n",
       "    <tr>\n",
       "      <td>39</td>\n",
       "      <td>Кутузовский проспект</td>\n",
       "      <td>Район Фили-Давыдково</td>\n",
       "      <td>ЗАО</td>\n",
       "      <td>114</td>\n",
       "    </tr>\n",
       "    <tr>\n",
       "      <td>40</td>\n",
       "      <td>Кутузовский проспект</td>\n",
       "      <td>Район Дорогомилово</td>\n",
       "      <td>ЗАО</td>\n",
       "      <td>114</td>\n",
       "    </tr>\n",
       "    <tr>\n",
       "      <td>41</td>\n",
       "      <td>Каширское шоссе</td>\n",
       "      <td>Район Орехово-Борисово Северное</td>\n",
       "      <td>ЮАО</td>\n",
       "      <td>110</td>\n",
       "    </tr>\n",
       "    <tr>\n",
       "      <td>42</td>\n",
       "      <td>Каширское шоссе</td>\n",
       "      <td>Район Орехово-Борисово Южное</td>\n",
       "      <td>ЮАО</td>\n",
       "      <td>110</td>\n",
       "    </tr>\n",
       "    <tr>\n",
       "      <td>43</td>\n",
       "      <td>Каширское шоссе</td>\n",
       "      <td>Район Москворечье-Сабурово</td>\n",
       "      <td>ЮАО</td>\n",
       "      <td>110</td>\n",
       "    </tr>\n",
       "    <tr>\n",
       "      <td>44</td>\n",
       "      <td>Каширское шоссе</td>\n",
       "      <td>Район Нагатино-Садовники</td>\n",
       "      <td>ЮАО</td>\n",
       "      <td>110</td>\n",
       "    </tr>\n",
       "  </tbody>\n",
       "</table>\n",
       "</div>"
      ],
      "text/plain": [
       "                    street                         district okrug  number\n",
       "0            проспект Мира                  Мещанский район   ЦАО     197\n",
       "1            проспект Мира               Останкинский район  СВАО     197\n",
       "2            проспект Мира               Район Марьина роща  СВАО     197\n",
       "3            проспект Мира                Ярославский Район  СВАО     197\n",
       "4            проспект Мира                  Район Ростокино  СВАО     197\n",
       "5            проспект Мира                   Район Свиблово  СВАО     197\n",
       "6            проспект Мира               Алексеевский район  СВАО     197\n",
       "7        Профсоюзная улица                  Район Черемушки  ЮЗАО     180\n",
       "8        Профсоюзная улица                    Район Ясенево  ЮЗАО     180\n",
       "9        Профсоюзная улица                Район Теплый Стан  ЮЗАО     180\n",
       "10       Профсоюзная улица                   Район Коньково  ЮЗАО     180\n",
       "11       Профсоюзная улица                Обручевский район  ЮЗАО     180\n",
       "12       Профсоюзная улица              Академический район  ЮЗАО     180\n",
       "13  Ленинградский проспект                Хорошевский район   САО     170\n",
       "14  Ленинградский проспект                      Район Сокол   САО     170\n",
       "15  Ленинградский проспект                    Район Беговой   САО     170\n",
       "16  Ленинградский проспект                   Район Аэропорт   САО     170\n",
       "17  Пресненская набережная                Пресненский район   ЦАО     165\n",
       "18        Варшавское шоссе         Район Нагатино-Садовники   ЮАО     160\n",
       "19        Варшавское шоссе      Район Чертаново Центральное   ЮАО     160\n",
       "20        Варшавское шоссе         Район Чертаново Северное   ЮАО     160\n",
       "21        Варшавское шоссе            Район Чертаново Южное   ЮАО     160\n",
       "22        Варшавское шоссе            Район Северное Бутово  ЮЗАО     160\n",
       "23        Варшавское шоссе               Район Южное Бутово  ЮЗАО     160\n",
       "24        Варшавское шоссе                   Нагорный район   ЮАО     160\n",
       "25        Варшавское шоссе                    Донской район   ЮАО     160\n",
       "26      Ленинский проспект                    Донской район   ЮАО     147\n",
       "27      Ленинский проспект              Ломоносовский район  ЮЗАО     147\n",
       "28      Ленинский проспект                Обручевский район  ЮЗАО     147\n",
       "29      Ленинский проспект       Район Проспект Вернадского   ЗАО     147\n",
       "30      Ленинский проспект                Район Теплый Стан  ЮЗАО     147\n",
       "31      Ленинский проспект         Район Тропарево-Никулино   ЗАО     147\n",
       "32      Ленинский проспект                   Район Якиманка   ЦАО     147\n",
       "33      Ленинский проспект                Район Гагаринский  ЮЗАО     147\n",
       "34    проспект Вернадского              Ломоносовский район  ЮЗАО     127\n",
       "35    проспект Вернадского         Район Тропарево-Никулино   ЗАО     127\n",
       "36    проспект Вернадского                    Район Раменки   ЗАО     127\n",
       "37    проспект Вернадского                Район Гагаринский  ЮЗАО     127\n",
       "38    проспект Вернадского       Район Проспект Вернадского   ЗАО     127\n",
       "39    Кутузовский проспект             Район Фили-Давыдково   ЗАО     114\n",
       "40    Кутузовский проспект               Район Дорогомилово   ЗАО     114\n",
       "41         Каширское шоссе  Район Орехово-Борисово Северное   ЮАО     110\n",
       "42         Каширское шоссе     Район Орехово-Борисово Южное   ЮАО     110\n",
       "43         Каширское шоссе       Район Москворечье-Сабурово   ЮАО     110\n",
       "44         Каширское шоссе         Район Нагатино-Садовники   ЮАО     110"
      ]
     },
     "execution_count": 51,
     "metadata": {},
     "output_type": "execute_result"
    }
   ],
   "source": [
    "res_number.query('number >= 110')"
   ]
  },
  {
   "cell_type": "markdown",
   "metadata": {},
   "source": [
    "Можно заметить, что топ-10 улиц это в основном длинные улицы, которые расположены в нескольких районах и даже округах."
   ]
  },
  {
   "cell_type": "markdown",
   "metadata": {},
   "source": [
    "### Найдите число улиц с одним объектом общественного питания. Воспользуйтесь внешней информацией и ответьте на вопрос — в каких районах Москвы находятся эти улицы?"
   ]
  },
  {
   "cell_type": "markdown",
   "metadata": {},
   "source": [
    "Зато теперь, после такой объемной подготовительной работы, можно легко ответить на вопрос про улицы с одним объектом."
   ]
  },
  {
   "cell_type": "code",
   "execution_count": 52,
   "metadata": {},
   "outputs": [
    {
     "data": {
      "text/plain": [
       "560"
      ]
     },
     "execution_count": 52,
     "metadata": {},
     "output_type": "execute_result"
    }
   ],
   "source": [
    "res_number[res_number['number'] == 1]['street'].count()"
   ]
  },
  {
   "cell_type": "markdown",
   "metadata": {},
   "source": [
    "Всего таких улиц - 560. Такое число улиц очень долго искать в гугле. Но теперь, с нашим новым датасетом, это вопрос одной строчки кода"
   ]
  },
  {
   "cell_type": "code",
   "execution_count": 53,
   "metadata": {
    "scrolled": true
   },
   "outputs": [
    {
     "data": {
      "text/plain": [
       "array(['Район Лефортово', 'Район Сокольники', 'Район Аэропорт',\n",
       "       'Район Марьина роща', 'Район Хамовники', 'Район Ясенево',\n",
       "       'Басманный район', 'Мещанский район', 'Район Покровское-Стрешнево',\n",
       "       'Район Соколиная Гора', 'Таганский район', 'Бескудниковский Район',\n",
       "       'Тимирязевский Район', 'Район Арбат', 'Район Богородское',\n",
       "       'Головинский район', 'Можайский Район', 'Лосиноостровский район',\n",
       "       'Район Западное Дегунино', 'Район Преображенское',\n",
       "       'Нижегородский район', 'Пресненский район',\n",
       "       'Район Выхино-Жулебино', 'Район Раменки', 'Район Фили-Давыдково',\n",
       "       'Красносельский район', 'Район Хорошево-Мневники',\n",
       "       'Район Кузьминки', 'Район Ростокино', 'Рязанский район',\n",
       "       'Район Текстильщики', 'Алексеевский район', 'Район Сокол',\n",
       "       'Бабушкинский район', 'Район Якиманка', 'Район Люблино',\n",
       "       'Район Котловка', 'Даниловский район', 'Район Замоскворечье',\n",
       "       'Район Измайлово', 'Район Беговой', 'Район Бирюлево Восточное',\n",
       "       'Район Внуково', 'Район Перово', 'Район Южное Бутово',\n",
       "       'Дмитровский район', 'Тверской район', 'Район Солнцево',\n",
       "       'Район Щукино', 'Нагорный район', 'Останкинский район',\n",
       "       'Савеловский район', 'Район Восточный', 'Район Филевский Парк',\n",
       "       'Район Нагатино-Садовники', 'Район Дорогомилово', 'Район Свиблово',\n",
       "       'Район Черемушки', 'Район Царицыно', 'Район Косино-Ухтомский',\n",
       "       'Район Митино', 'Район Северный', 'Район Гагаринский',\n",
       "       'Хорошевский район', 'Район Матушкино-Савелки',\n",
       "       'Район Ново-Переделкино', 'Бутырский район', 'Район Южное Тушино',\n",
       "       'Алтуфьевский район', 'Район Строгино', 'Район Левобережный',\n",
       "       'Молжаниновский район', 'Район Ивановское', 'Район Новогиреево',\n",
       "       'Ярославский Район', 'Район Очаково-Матвеевское',\n",
       "       'Войковский Район', 'Район Чертаново Северное', 'Район Коптево',\n",
       "       'Южнопортовый Район', 'Район Отрадное', 'Район Печатники',\n",
       "       'Донской район', 'Район Куркино', 'Район Метрогородок',\n",
       "       'Район Марьино', 'Район Кунцево', 'Район Гольяново',\n",
       "       'Район Северное Медведково', 'Район Южное Медведково',\n",
       "       'Район Зюзино', 'Район Северное Измайлово', 'Район Марфино',\n",
       "       'Район Коньково', 'Обручевский район', 'Район Северное Бутово',\n",
       "       'Район Восточное Измайлово', 'Район Москворечье-Сабурово',\n",
       "       'Район Чертаново Южное'], dtype=object)"
      ]
     },
     "execution_count": 53,
     "metadata": {},
     "output_type": "execute_result"
    }
   ],
   "source": [
    "res_number[res_number['number'] == 1]['district'].unique()"
   ]
  },
  {
   "cell_type": "markdown",
   "metadata": {},
   "source": [
    "Большинство этих районов - спальные. Общественная жизнь в них протекает не очень бурно."
   ]
  },
  {
   "cell_type": "markdown",
   "metadata": {},
   "source": [
    "Посмотрим, в каких округах находятся эти улицы."
   ]
  },
  {
   "cell_type": "code",
   "execution_count": 54,
   "metadata": {},
   "outputs": [
    {
     "data": {
      "text/plain": [
       "ЦАО           185\n",
       "ВАО            72\n",
       "СВАО           67\n",
       "ЮВАО           55\n",
       "САО            55\n",
       "ЗАО            41\n",
       "ЮАО            30\n",
       "ЮЗАО           27\n",
       "СЗАО           27\n",
       "Зеленоград      1\n",
       "Name: okrug, dtype: int64"
      ]
     },
     "execution_count": 54,
     "metadata": {},
     "output_type": "execute_result"
    }
   ],
   "source": [
    "okrug_chart = res_number[res_number['number'] == 1]['okrug'].value_counts()\n",
    "okrug_chart"
   ]
  },
  {
   "cell_type": "code",
   "execution_count": 55,
   "metadata": {},
   "outputs": [
    {
     "data": {
      "image/png": "[encoded data removed]",
      "text/plain": [
       "<Figure size 432x432 with 1 Axes>"
      ]
     },
     "metadata": {},
     "output_type": "display_data"
    }
   ],
   "source": [
    "plt.figure(figsize = (6,6))\n",
    "okrug_chart.plot.pie(autopct=\"%.1f%%\")\n",
    "\n",
    "plt.title('Распределение улиц с 1 заведением по округам')\n",
    "plt.xlabel('')\n",
    "plt.ylabel('');"
   ]
  },
  {
   "cell_type": "markdown",
   "metadata": {},
   "source": [
    "Удивительно много улиц находится в ЦАО. А большинство таких улиц действительно находится в спальных районах. На всякий случай, посмотрим список улиц, которые находятся в ЦАО."
   ]
  },
  {
   "cell_type": "code",
   "execution_count": 56,
   "metadata": {
    "scrolled": true
   },
   "outputs": [
    {
     "data": {
      "text/plain": [
       "array(['переулок Хользунова', 'улица Новая Дорога',\n",
       "       'Малый Ивановский переулок', 'Звонарский переулок',\n",
       "       'Малый Казённый переулок', 'Сибирский проезд',\n",
       "       'Большой Николопесковский переулок',\n",
       "       'Малый Златоустинский переулок', 'Малый Знаменский переулок',\n",
       "       'Больничный переулок', 'улица Николаева',\n",
       "       'Малый Власьевский переулок', 'Живарев переулок',\n",
       "       'Напрудный переулок', 'улица Подвойского',\n",
       "       '1-й Обыденский переулок', '1-й Спасоналивковский переулок',\n",
       "       'переулок Васнецова', 'переулок Красина', 'Жуков проезд',\n",
       "       'Большой Кисельный переулок', 'переулок Маяковского',\n",
       "       'Петроверигский переулок', 'улица Павла Андреева',\n",
       "       'Троилинский переулок', 'улица Малая Ордынка',\n",
       "       'улица Малые Каменщики', 'Триумфальная площадь',\n",
       "       'Соймоновский проезд', 'Большой Полуярославский переулок',\n",
       "       'Берниковская набережная', '1-я Миусская улица',\n",
       "       'Известковый переулок', 'Тетеринский переулок', 'Тестовская улица',\n",
       "       'Тессинский переулок', 'Выползов переулок', 'Мрузовский переулок',\n",
       "       'Нижний Кисельный переулок', 'Тихвинский переулок', 'Тихий тупик',\n",
       "       '1-й Новокузнецкий переулок', '7-й Ростовский переулок',\n",
       "       'Госпитальный переулок', 'улица Фадеева', 'Дмитровский переулок',\n",
       "       '1-й Зачатьевский переулок', 'Большой Знаменский переулок',\n",
       "       '1-й Коптельский переулок', 'Скатертный переулок',\n",
       "       'Гольяновская улица', 'Малый Конюшковский переулок',\n",
       "       'Гончарная набережная', 'Старомонетный переулок',\n",
       "       'Сретенский тупик', 'Спартаковский переулок',\n",
       "       'Средний Кондратьевский переулок',\n",
       "       'Большой Афанасьевский переулок', 'Несвижский переулок',\n",
       "       '1-й Басманный переулок', 'Причальный проезд',\n",
       "       'Средний Овчинниковский переулок', 'Средняя Калитниковская улица',\n",
       "       'Дегтярный переулок', '1-й Голутвинский переулок',\n",
       "       'Делегатская улица', 'Софийская набережная', 'Денежный переулок',\n",
       "       'Калошин переулок', 'Гжельский переулок',\n",
       "       'Малый Николопесковский переулок', 'Глазовский переулок',\n",
       "       'Богоявленский переулок', 'улица Савельева', 'Елоховский проезд',\n",
       "       'Пуговишников переулок', '1-й Николощеповский переулок',\n",
       "       'Пестовский переулок', 'Малый Каретный переулок',\n",
       "       'Гранатный переулок', 'улица Советской Армии',\n",
       "       'Стрельбищенский переулок', 'Столовый переулок',\n",
       "       '1-й Котельнический переулок', 'Библиотечная улица',\n",
       "       'Докучаев переулок', 'Большой Казённый переулок',\n",
       "       'Глинищевский переулок', 'Проточный переулок', 'Яузский бульвар',\n",
       "       '1-й Люсиновский переулок', 'Стройковская улица',\n",
       "       'Глинистый переулок', '1-й Монетчиковский переулок',\n",
       "       'Малый Лёвшинский переулок', 'Банный проезд',\n",
       "       '2-й Новокузнецкий переулок', '2-й Неопалимовский переулок',\n",
       "       'Андроньевская площадь', '2-й Обыденский переулок',\n",
       "       'Малый Полуярославский переулок', 'Подсосенский переулок',\n",
       "       '2-й Красносельский переулок', '2-й Колобовский переулок',\n",
       "       '3-й Кадашёвский переулок', 'Большой Трёхсвятительский переулок',\n",
       "       'Международная улица', 'Никитский переулок', 'Сверчков переулок',\n",
       "       'Хохловский переулок', 'Черниговский переулок',\n",
       "       '2-й Кадашёвский переулок', 'Посланников переулок',\n",
       "       '2-й Щемиловский переулок', 'Скорняжный переулок',\n",
       "       '2-я Дубровская улица', 'Шубинский переулок',\n",
       "       'Лефортовский переулок', 'Брошевский переулок',\n",
       "       'Бродников переулок', 'Ботанический переулок',\n",
       "       'Малый Толмачёвский переулок', 'Электрический переулок',\n",
       "       'Малый Татарский переулок', 'Лужнецкий проезд', 'Лыщиков переулок',\n",
       "       'Сеченовский переулок', 'Мамоновский переулок',\n",
       "       'Варсонофьевский переулок', 'Мансуровский переулок',\n",
       "       'улица Анатолия Живова', 'Бутиковский переулок',\n",
       "       'Малый Саввинский переулок', 'Малый Путинковский переулок',\n",
       "       'Пожарский переулок', 'улица Академика Петровского',\n",
       "       'Малая Андроньевская улица', 'Тургеневская площадь',\n",
       "       'Кожевнический проезд', 'Малая Переяславская улица',\n",
       "       'Миусская площадь', 'Успенский переулок',\n",
       "       'Большой Симоновский переулок', 'Козицкий переулок',\n",
       "       'Плетешковский переулок', 'Ащеулов переулок',\n",
       "       'Композиторская улица', 'Кондрашёвский тупик',\n",
       "       'Филипповский переулок', '5-й Монетчиковский переулок',\n",
       "       'Рубцов переулок', '5-й Котельнический переулок',\n",
       "       'Воротниковский переулок', 'Большой Предтеченский переулок',\n",
       "       'Хилков переулок', 'Кривоарбатский переулок',\n",
       "       'Кремлёвская набережная', 'Красногвардейский бульвар',\n",
       "       'Большой Строченовский переулок', 'Мерзляковский переулок',\n",
       "       'Хитровский переулок', 'Хлебный переулок', 'Хлыновский тупик',\n",
       "       'Новопресненский переулок', 'Хавская улица', 'Кооперативная улица',\n",
       "       'улица Жуковского', 'Архангельский переулок',\n",
       "       'Костомаровская набережная', 'Якиманский переулок',\n",
       "       'Фролов переулок', 'Садовая-Сухаревская улица',\n",
       "       'улица Достоевского', 'Садовнический проезд'], dtype=object)"
      ]
     },
     "execution_count": 56,
     "metadata": {},
     "output_type": "execute_result"
    }
   ],
   "source": [
    "res_number[(res_number['number'] == 1)&(res_number['okrug'] == 'ЦАО')]['street'].unique()"
   ]
  },
  {
   "cell_type": "markdown",
   "metadata": {},
   "source": [
    "Некоторые из этих улиц маленькие, а некоторые идут параллельно более оживленным улицам. Например, улица Малая Ордынка. Она довольно протяженная, но идет параллельно более оживленной Пятницкой улице, на которой огромное число заведений."
   ]
  },
  {
   "cell_type": "markdown",
   "metadata": {},
   "source": [
    "### Посмотрите на распределение количества посадочных мест для улиц с большим количеством объектов общественного питания. Какие закономерности можно выявить?"
   ]
  },
  {
   "cell_type": "markdown",
   "metadata": {},
   "source": [
    "Построим распределения."
   ]
  },
  {
   "cell_type": "code",
   "execution_count": 57,
   "metadata": {},
   "outputs": [],
   "source": [
    "top_ten = data_new.pivot_table(index='street', values='number', aggfunc='count')\\\n",
    ".sort_values(by='number', ascending=False).reset_index().head(10)"
   ]
  },
  {
   "cell_type": "code",
   "execution_count": 58,
   "metadata": {},
   "outputs": [],
   "source": [
    "top10_streets_list = top_ten['street'].to_list()"
   ]
  },
  {
   "cell_type": "code",
   "execution_count": 59,
   "metadata": {},
   "outputs": [
    {
     "data": {
      "text/plain": [
       "['проспект Мира',\n",
       " 'Профсоюзная улица',\n",
       " 'Ленинградский проспект',\n",
       " 'Пресненская набережная',\n",
       " 'Варшавское шоссе',\n",
       " 'Ленинский проспект',\n",
       " 'проспект Вернадского',\n",
       " 'Кутузовский проспект',\n",
       " 'Каширское шоссе',\n",
       " 'Кировоградская улица']"
      ]
     },
     "execution_count": 59,
     "metadata": {},
     "output_type": "execute_result"
    }
   ],
   "source": [
    "top10_streets_list"
   ]
  },
  {
   "cell_type": "code",
   "execution_count": 60,
   "metadata": {},
   "outputs": [],
   "source": [
    "top10_streets_data = data.query('street in @top10_streets_list')"
   ]
  },
  {
   "cell_type": "code",
   "execution_count": 61,
   "metadata": {},
   "outputs": [
    {
     "data": {
      "image/png": "[encoded data removed]",
      "text/plain": [
       "<Figure size 432x432 with 1 Axes>"
      ]
     },
     "metadata": {
      "needs_background": "light"
     },
     "output_type": "display_data"
    },
    {
     "name": "stdout",
     "output_type": "stream",
     "text": [
      "Медианное кол-во посадочных мест в заведениях на топ-10 улицах по количеству объектов: 40.0\n"
     ]
    }
   ],
   "source": [
    "top10_streets_data['number'].median()\n",
    "data['number'].median()\n",
    "plt.figure(figsize=(6,6))\n",
    "plt.xlim(0,200)\n",
    "sns.boxplot(data=top10_streets_data, x='number', y='street')\n",
    "plt.title('Распределение количества посадочных мест для топ-10 улиц по кол-ву объектов')\n",
    "plt.ylabel('')\n",
    "plt.xlabel('Кол-во посадочных мест')\n",
    "plt.show()\n",
    "print('Медианное кол-во посадочных мест в заведениях на топ-10 улицах по количеству объектов: {}'\\\n",
    "      .format(top10_streets_data['number'].median()))"
   ]
  },
  {
   "cell_type": "markdown",
   "metadata": {},
   "source": [
    "Медианное значение посадочных мест для топ-10 улиц варьируется от 25 до 50. Максимальное число варьируется от 100 до 200, но 75% всех заведений имеют менее 100 посадочных мест."
   ]
  },
  {
   "cell_type": "markdown",
   "metadata": {},
   "source": [
    "## Вывод"
   ]
  },
  {
   "cell_type": "markdown",
   "metadata": {},
   "source": [
    "Больше всего в Москве открывают кафе, причем несетевых. Сетевыми же обычно являются преприятия быстрого питания. В такой сети обычно не очень много ресторанов, но большое число посадочных мест, что определенно уменьшает затраты на обслуживающий персонал. Но больше всего посадочных мест - у столовых: они обслуживают большое число рабочих или учащихся в одно время.\n",
    "\n",
    "Самое большое число завдений расположено на самых длинных улицах Москвы. Улицы, на которых есть только один объект питания, расположены в основном в отдалении от центра Москвы. Такие тенденции связаны с радиальной структурой города. В центре всё находится друг от друга в шаговой доступности и люди ездят в центр города на работу или же проводить свой досуг. До центра города из любой его окраины ехать примерно одно и то же время, поэтому все встречи происходят тоже в центре.\n",
    "\n",
    "Таким образом, если и открывать точку питания, то лучше открывать кафе в центре Москвы. Клиентов будет гораздо больше, чем в спальных районах. Число посадочных мест - не более 100, потому что в центре очень дорогая аренда площади. Но мало просто открыться в центре, нужно также выбрать правильную улицу, на которой будет большое количество потенциальных клиентов.\n",
    "\n",
    "Если мы захотим, то можем в дальнейшем открыть сеть таких кафе. Тенденция подсказывает, что таких кафе не должно быть очень много, но в них должно быть достаточно мест для всех желающих."
   ]
  },
  {
   "cell_type": "markdown",
   "metadata": {},
   "source": [
    "Презентация: <https://drive.google.com/file/d/1hYAXoWriIGiZzgPZJKFvXm9TADSKR191/view?usp=sharing> "
   ]
  }
 ],
 "metadata": {
  "kernelspec": {
   "display_name": "Python 3",
   "language": "python",
   "name": "python3"
  },
  "language_info": {
   "codemirror_mode": {
    "name": "ipython",
    "version": 3
   },
   "file_extension": ".py",
   "mimetype": "text/x-python",
   "name": "python",
   "nbconvert_exporter": "python",
   "pygments_lexer": "ipython3",
   "version": "3.8.5"
  },
  "toc": {
   "base_numbering": 1,
   "nav_menu": {
    "height": "67px",
    "width": "732px"
   },
   "number_sections": false,
   "sideBar": true,
   "skip_h1_title": true,
   "title_cell": "Table of Contents",
   "title_sidebar": "Contents",
   "toc_cell": false,
   "toc_position": {
    "height": "calc(100% - 180px)",
    "left": "10px",
    "top": "150px",
    "width": "243.6px"
   },
   "toc_section_display": true,
   "toc_window_display": true
  }
 },
 "nbformat": 4,
 "nbformat_minor": 2
}
